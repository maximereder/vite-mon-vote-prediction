{
  "cells": [
    {
      "cell_type": "markdown",
      "source": [
        "### Imports"
      ],
      "metadata": {
        "id": "OjDZsjIXLbcY"
      }
    },
    {
      "cell_type": "code",
      "execution_count": 343,
      "metadata": {
        "id": "nD6FKaXB-PYu"
      },
      "outputs": [],
      "source": [
        "import pandas as pd\n",
        "import numpy as np\n",
        "import matplotlib.pyplot as plt\n",
        "import seaborn as sns\n",
        "from sklearn.pipeline import Pipeline\n",
        "from sklearn.compose import ColumnTransformer\n",
        "from sklearn.neighbors import KNeighborsClassifier\n",
        "from sklearn.linear_model import SGDClassifier\n",
        "from sklearn.compose import make_column_selector\n",
        "from sklearn.svm import SVC\n",
        "from sklearn.impute import SimpleImputer\n",
        "from sklearn.preprocessing import OneHotEncoder, StandardScaler, LabelEncoder, OrdinalEncoder\n",
        "from sklearn.model_selection import train_test_split, GridSearchCV\n",
        "from sklearn.ensemble import BaggingClassifier\n",
        "from sklearn.ensemble import AdaBoostClassifier\n",
        "from sklearn.ensemble import GradientBoostingClassifier"
      ]
    },
    {
      "cell_type": "markdown",
      "source": [
        "# Vite-mon-vote project :\n",
        "\n",
        "## ℹ About the projet :\n",
        "This project aims to study the opinion of the population of Greater Nancy (France) on a few specific questions. This study is part of a student project allowing to visualize a project proposed by the city.\n",
        "This study makes it possible to feed the software for the thesis with real data.\n",
        "\n",
        "This document will help me to put the data pipeline into production for the new software. Indeed, all the parts will be reused except the data visualization part.\n",
        "\n"
      ],
      "metadata": {
        "id": "p8g0v6hoguWx"
      }
    },
    {
      "cell_type": "markdown",
      "source": [
        "## ℹ About the data:\n",
        "\n",
        "Several pieces of information are necessary to take into account to understand the data set. \n",
        "\n",
        "We have created a google forms to collect the votes of each person.\n",
        "A QR code has been specially created so that everyone can access it quickly.\n",
        "\n",
        "The objective was to collect people's opinions without favoring a particular social category. However, the help from the university (email bank) raises awareness among people i.e students have been more affected overall.\n",
        "\n",
        "24 QR codes have been displayed at points of interest in Grand Nancy.\n",
        "\n",
        "Data was retrieved in parallel from multiple locations :\n",
        "\n",
        "*   Our school,\n",
        "*   Nancy city centre,\n",
        "*   Essey-lès-Nancy,\n",
        "*   Saint-Max,\n",
        "*   Laxou.\n",
        "\n",
        "The survey was also shared on social networks like Facebook. However, it was difficult to recover a lot of data because our networks cannot recover thousands of data. This justifies the rather low number of votes.\n",
        "\n",
        "**Let's visualize!**  🚀"
      ],
      "metadata": {
        "id": "VBnr46OM4-ub"
      }
    },
    {
      "cell_type": "markdown",
      "source": [
        "# Data visualisation"
      ],
      "metadata": {
        "id": "MuoBqai7d1Bl"
      }
    },
    {
      "cell_type": "code",
      "execution_count": 344,
      "metadata": {
        "colab": {
          "base_uri": "https://localhost:8080/",
          "height": 424
        },
        "id": "2Pc2cxgU-cAx",
        "outputId": "6a348c11-265f-4954-c1c8-f298136845c5"
      },
      "outputs": [
        {
          "output_type": "execute_result",
          "data": {
            "text/html": [
              "\n",
              "  <div id=\"df-1d05516c-ca7d-4f6c-834b-4f66097a11ab\">\n",
              "    <div class=\"colab-df-container\">\n",
              "      <div>\n",
              "<style scoped>\n",
              "    .dataframe tbody tr th:only-of-type {\n",
              "        vertical-align: middle;\n",
              "    }\n",
              "\n",
              "    .dataframe tbody tr th {\n",
              "        vertical-align: top;\n",
              "    }\n",
              "\n",
              "    .dataframe thead th {\n",
              "        text-align: right;\n",
              "    }\n",
              "</style>\n",
              "<table border=\"1\" class=\"dataframe\">\n",
              "  <thead>\n",
              "    <tr style=\"text-align: right;\">\n",
              "      <th></th>\n",
              "      <th>time</th>\n",
              "      <th>name</th>\n",
              "      <th>gender</th>\n",
              "      <th>old</th>\n",
              "      <th>city</th>\n",
              "      <th>socio-professional-category</th>\n",
              "      <th>dependent</th>\n",
              "      <th>first</th>\n",
              "      <th>second</th>\n",
              "      <th>third</th>\n",
              "    </tr>\n",
              "  </thead>\n",
              "  <tbody>\n",
              "    <tr>\n",
              "      <th>0</th>\n",
              "      <td>24/11/2021 13:11:49</td>\n",
              "      <td>Alexandre</td>\n",
              "      <td>Male</td>\n",
              "      <td>18-25</td>\n",
              "      <td>Essey-lès-Nancy</td>\n",
              "      <td>Executive</td>\n",
              "      <td>0</td>\n",
              "      <td>6</td>\n",
              "      <td>1</td>\n",
              "      <td>1</td>\n",
              "    </tr>\n",
              "    <tr>\n",
              "      <th>1</th>\n",
              "      <td>26/11/2021 09:55:18</td>\n",
              "      <td>Jessica</td>\n",
              "      <td>Female</td>\n",
              "      <td>18-25</td>\n",
              "      <td>Outside Grand Nancy</td>\n",
              "      <td>Students / Apprentice</td>\n",
              "      <td>0</td>\n",
              "      <td>5</td>\n",
              "      <td>3</td>\n",
              "      <td>3</td>\n",
              "    </tr>\n",
              "    <tr>\n",
              "      <th>2</th>\n",
              "      <td>26/11/2021 10:45:55</td>\n",
              "      <td>Thomas</td>\n",
              "      <td>Male</td>\n",
              "      <td>18-25</td>\n",
              "      <td>Nancy</td>\n",
              "      <td>Students / Apprentice</td>\n",
              "      <td>0</td>\n",
              "      <td>4</td>\n",
              "      <td>2</td>\n",
              "      <td>5</td>\n",
              "    </tr>\n",
              "    <tr>\n",
              "      <th>3</th>\n",
              "      <td>26/11/2021 10:47:17</td>\n",
              "      <td>Romain</td>\n",
              "      <td>Male</td>\n",
              "      <td>18-25</td>\n",
              "      <td>Nancy</td>\n",
              "      <td>Students / Apprentice</td>\n",
              "      <td>0</td>\n",
              "      <td>5</td>\n",
              "      <td>6</td>\n",
              "      <td>3</td>\n",
              "    </tr>\n",
              "    <tr>\n",
              "      <th>4</th>\n",
              "      <td>26/11/2021 10:48:10</td>\n",
              "      <td>Antoine</td>\n",
              "      <td>Male</td>\n",
              "      <td>18-25</td>\n",
              "      <td>Nancy</td>\n",
              "      <td>Students / Apprentice</td>\n",
              "      <td>0</td>\n",
              "      <td>4</td>\n",
              "      <td>1</td>\n",
              "      <td>2</td>\n",
              "    </tr>\n",
              "    <tr>\n",
              "      <th>...</th>\n",
              "      <td>...</td>\n",
              "      <td>...</td>\n",
              "      <td>...</td>\n",
              "      <td>...</td>\n",
              "      <td>...</td>\n",
              "      <td>...</td>\n",
              "      <td>...</td>\n",
              "      <td>...</td>\n",
              "      <td>...</td>\n",
              "      <td>...</td>\n",
              "    </tr>\n",
              "    <tr>\n",
              "      <th>487</th>\n",
              "      <td>15/12/2021 20:46:29</td>\n",
              "      <td>Tony</td>\n",
              "      <td>Male</td>\n",
              "      <td>26-40</td>\n",
              "      <td>Tomblaine</td>\n",
              "      <td>Employees</td>\n",
              "      <td>0</td>\n",
              "      <td>5</td>\n",
              "      <td>5</td>\n",
              "      <td>3</td>\n",
              "    </tr>\n",
              "    <tr>\n",
              "      <th>488</th>\n",
              "      <td>16/12/2021 20:16:52</td>\n",
              "      <td>None</td>\n",
              "      <td>Other</td>\n",
              "      <td>26-40</td>\n",
              "      <td>Art-sur-Meurthe</td>\n",
              "      <td>Craftsmen / Shopkeeper</td>\n",
              "      <td>0</td>\n",
              "      <td>2</td>\n",
              "      <td>2</td>\n",
              "      <td>2</td>\n",
              "    </tr>\n",
              "    <tr>\n",
              "      <th>489</th>\n",
              "      <td>18/12/2021 17:03:33</td>\n",
              "      <td>Kevin</td>\n",
              "      <td>Male</td>\n",
              "      <td>18-25</td>\n",
              "      <td>Nancy</td>\n",
              "      <td>Worker</td>\n",
              "      <td>0</td>\n",
              "      <td>5</td>\n",
              "      <td>6</td>\n",
              "      <td>3</td>\n",
              "    </tr>\n",
              "    <tr>\n",
              "      <th>490</th>\n",
              "      <td>18/12/2021 17:45:58</td>\n",
              "      <td>sandra</td>\n",
              "      <td>Female</td>\n",
              "      <td>Less than 18</td>\n",
              "      <td>Nancy</td>\n",
              "      <td>Unemployed</td>\n",
              "      <td>0</td>\n",
              "      <td>3</td>\n",
              "      <td>6</td>\n",
              "      <td>4</td>\n",
              "    </tr>\n",
              "    <tr>\n",
              "      <th>491</th>\n",
              "      <td>19/12/2021 11:23:44</td>\n",
              "      <td>Louis</td>\n",
              "      <td>Male</td>\n",
              "      <td>18-25</td>\n",
              "      <td>Nancy</td>\n",
              "      <td>Students / Apprentice</td>\n",
              "      <td>0</td>\n",
              "      <td>4</td>\n",
              "      <td>1</td>\n",
              "      <td>2</td>\n",
              "    </tr>\n",
              "  </tbody>\n",
              "</table>\n",
              "<p>492 rows × 10 columns</p>\n",
              "</div>\n",
              "      <button class=\"colab-df-convert\" onclick=\"convertToInteractive('df-1d05516c-ca7d-4f6c-834b-4f66097a11ab')\"\n",
              "              title=\"Convert this dataframe to an interactive table.\"\n",
              "              style=\"display:none;\">\n",
              "        \n",
              "  <svg xmlns=\"http://www.w3.org/2000/svg\" height=\"24px\"viewBox=\"0 0 24 24\"\n",
              "       width=\"24px\">\n",
              "    <path d=\"M0 0h24v24H0V0z\" fill=\"none\"/>\n",
              "    <path d=\"M18.56 5.44l.94 2.06.94-2.06 2.06-.94-2.06-.94-.94-2.06-.94 2.06-2.06.94zm-11 1L8.5 8.5l.94-2.06 2.06-.94-2.06-.94L8.5 2.5l-.94 2.06-2.06.94zm10 10l.94 2.06.94-2.06 2.06-.94-2.06-.94-.94-2.06-.94 2.06-2.06.94z\"/><path d=\"M17.41 7.96l-1.37-1.37c-.4-.4-.92-.59-1.43-.59-.52 0-1.04.2-1.43.59L10.3 9.45l-7.72 7.72c-.78.78-.78 2.05 0 2.83L4 21.41c.39.39.9.59 1.41.59.51 0 1.02-.2 1.41-.59l7.78-7.78 2.81-2.81c.8-.78.8-2.07 0-2.86zM5.41 20L4 18.59l7.72-7.72 1.47 1.35L5.41 20z\"/>\n",
              "  </svg>\n",
              "      </button>\n",
              "      \n",
              "  <style>\n",
              "    .colab-df-container {\n",
              "      display:flex;\n",
              "      flex-wrap:wrap;\n",
              "      gap: 12px;\n",
              "    }\n",
              "\n",
              "    .colab-df-convert {\n",
              "      background-color: #E8F0FE;\n",
              "      border: none;\n",
              "      border-radius: 50%;\n",
              "      cursor: pointer;\n",
              "      display: none;\n",
              "      fill: #1967D2;\n",
              "      height: 32px;\n",
              "      padding: 0 0 0 0;\n",
              "      width: 32px;\n",
              "    }\n",
              "\n",
              "    .colab-df-convert:hover {\n",
              "      background-color: #E2EBFA;\n",
              "      box-shadow: 0px 1px 2px rgba(60, 64, 67, 0.3), 0px 1px 3px 1px rgba(60, 64, 67, 0.15);\n",
              "      fill: #174EA6;\n",
              "    }\n",
              "\n",
              "    [theme=dark] .colab-df-convert {\n",
              "      background-color: #3B4455;\n",
              "      fill: #D2E3FC;\n",
              "    }\n",
              "\n",
              "    [theme=dark] .colab-df-convert:hover {\n",
              "      background-color: #434B5C;\n",
              "      box-shadow: 0px 1px 3px 1px rgba(0, 0, 0, 0.15);\n",
              "      filter: drop-shadow(0px 1px 2px rgba(0, 0, 0, 0.3));\n",
              "      fill: #FFFFFF;\n",
              "    }\n",
              "  </style>\n",
              "\n",
              "      <script>\n",
              "        const buttonEl =\n",
              "          document.querySelector('#df-1d05516c-ca7d-4f6c-834b-4f66097a11ab button.colab-df-convert');\n",
              "        buttonEl.style.display =\n",
              "          google.colab.kernel.accessAllowed ? 'block' : 'none';\n",
              "\n",
              "        async function convertToInteractive(key) {\n",
              "          const element = document.querySelector('#df-1d05516c-ca7d-4f6c-834b-4f66097a11ab');\n",
              "          const dataTable =\n",
              "            await google.colab.kernel.invokeFunction('convertToInteractive',\n",
              "                                                     [key], {});\n",
              "          if (!dataTable) return;\n",
              "\n",
              "          const docLinkHtml = 'Like what you see? Visit the ' +\n",
              "            '<a target=\"_blank\" href=https://colab.research.google.com/notebooks/data_table.ipynb>data table notebook</a>'\n",
              "            + ' to learn more about interactive tables.';\n",
              "          element.innerHTML = '';\n",
              "          dataTable['output_type'] = 'display_data';\n",
              "          await google.colab.output.renderOutput(dataTable, element);\n",
              "          const docLink = document.createElement('div');\n",
              "          docLink.innerHTML = docLinkHtml;\n",
              "          element.appendChild(docLink);\n",
              "        }\n",
              "      </script>\n",
              "    </div>\n",
              "  </div>\n",
              "  "
            ],
            "text/plain": [
              "                    time       name  gender  ... first second third\n",
              "0    24/11/2021 13:11:49  Alexandre    Male  ...     6      1     1\n",
              "1    26/11/2021 09:55:18    Jessica  Female  ...     5      3     3\n",
              "2    26/11/2021 10:45:55     Thomas    Male  ...     4      2     5\n",
              "3    26/11/2021 10:47:17     Romain    Male  ...     5      6     3\n",
              "4    26/11/2021 10:48:10    Antoine    Male  ...     4      1     2\n",
              "..                   ...        ...     ...  ...   ...    ...   ...\n",
              "487  15/12/2021 20:46:29       Tony    Male  ...     5      5     3\n",
              "488  16/12/2021 20:16:52       None   Other  ...     2      2     2\n",
              "489  18/12/2021 17:03:33      Kevin    Male  ...     5      6     3\n",
              "490  18/12/2021 17:45:58    sandra   Female  ...     3      6     4\n",
              "491  19/12/2021 11:23:44      Louis    Male  ...     4      1     2\n",
              "\n",
              "[492 rows x 10 columns]"
            ]
          },
          "metadata": {},
          "execution_count": 344
        }
      ],
      "source": [
        "data = pd.read_csv('vote.csv')\n",
        "data"
      ]
    },
    {
      "cell_type": "markdown",
      "source": [
        "## Features"
      ],
      "metadata": {
        "id": "zYU13xG9f2wp"
      }
    },
    {
      "cell_type": "code",
      "source": [
        "data.shape"
      ],
      "metadata": {
        "colab": {
          "base_uri": "https://localhost:8080/"
        },
        "id": "SvgaiOpKgcSd",
        "outputId": "09245f31-8988-4076-b49a-c17fb793ffd2"
      },
      "execution_count": 345,
      "outputs": [
        {
          "output_type": "execute_result",
          "data": {
            "text/plain": [
              "(492, 10)"
            ]
          },
          "metadata": {},
          "execution_count": 345
        }
      ]
    },
    {
      "cell_type": "markdown",
      "source": [
        "492 people answered ! "
      ],
      "metadata": {
        "id": "n3finPv9-jKh"
      }
    },
    {
      "cell_type": "markdown",
      "source": [
        "We're getting all percentages and we add into legend."
      ],
      "metadata": {
        "id": "eJ8WhbdM_upg"
      }
    },
    {
      "cell_type": "code",
      "source": [
        "percents = data['gender'].value_counts(normalize=True).tolist()\n",
        "for i in range(0, len(percents), 1):\n",
        "  percents[i] = percents[i]*100\n",
        "percents"
      ],
      "metadata": {
        "colab": {
          "base_uri": "https://localhost:8080/"
        },
        "id": "nsHPlcdAbRX8",
        "outputId": "3aa0a929-ffc2-4b0f-df6d-96be081ec525"
      },
      "execution_count": 346,
      "outputs": [
        {
          "output_type": "execute_result",
          "data": {
            "text/plain": [
              "[50.40650406504065, 46.7479674796748, 2.8455284552845526]"
            ]
          },
          "metadata": {},
          "execution_count": 346
        }
      ]
    },
    {
      "cell_type": "code",
      "source": [
        "labels = ['gender', 'old', 'city', 'socio-professional-category', 'dependent']\n",
        "labels_associated = []\n",
        "for l in labels:\n",
        "  labels_associated.append(data[l].value_counts().index.tolist())\n",
        "labels_associated"
      ],
      "metadata": {
        "colab": {
          "base_uri": "https://localhost:8080/"
        },
        "id": "--aYZUN-S2tM",
        "outputId": "3c673284-a3b8-4b9d-810f-eedefbdd752c"
      },
      "execution_count": 347,
      "outputs": [
        {
          "output_type": "execute_result",
          "data": {
            "text/plain": [
              "[['Male', 'Female', 'Other'],\n",
              " ['18-25', ' 41-60', '26-40', 'More than 60', 'Less than 18'],\n",
              " ['Nancy',\n",
              "  'Outside Grand Nancy',\n",
              "  'Vandoeuvre-les-Nancy',\n",
              "  'Villers-les-Nancy',\n",
              "  'Essey-lès-Nancy',\n",
              "  'Laxou',\n",
              "  'Saint-Max',\n",
              "  'Maxéville',\n",
              "  'Jarville-la-Malgrange',\n",
              "  'Ludres',\n",
              "  'Malzéville',\n",
              "  'Tomblaine',\n",
              "  'Houdemont',\n",
              "  'Heillecourt',\n",
              "  'Seichamps',\n",
              "  'Pulnoy',\n",
              "  'Saulxures-les-Nancy',\n",
              "  'Laneuveville-devant-Nancy',\n",
              "  'Art-sur-Meurthe',\n",
              "  'Dommartemont'],\n",
              " ['Students / Apprentice',\n",
              "  'Executive',\n",
              "  'Employees',\n",
              "  'Temp',\n",
              "  'Retiree',\n",
              "  'Craftsmen / Shopkeeper',\n",
              "  'Self employed',\n",
              "  'Unemployed',\n",
              "  'Worker',\n",
              "  'Farmer'],\n",
              " ['0', '2', '1', '3 et plus']]"
            ]
          },
          "metadata": {},
          "execution_count": 347
        }
      ]
    },
    {
      "cell_type": "code",
      "source": [
        "questions = ['What is your gender?', 'What is your age?', 'In which city of Grand Nancy do you live?', 'What is your socio-professional situation?', 'How many children do you have in your care?']\n",
        "labels = ['gender', 'old', 'city', 'socio-professional-category', 'dependent']\n",
        "labels_associated = []\n",
        "sizes_associated = []\n",
        "percents_associated = []\n",
        "\n",
        "for l in labels:\n",
        "  labels_associated.append(data[l].value_counts().index.tolist())\n",
        "  sizes_associated.append(data[l].value_counts())\n",
        "  percents = data[l].value_counts(normalize=True).tolist()\n",
        "  for i in range(0, len(percents), 1):\n",
        "    percents[i] = percents[i]*100\n",
        "  percents_associated.append(percents)\n",
        "\n",
        "for i in range(0, len(questions), 1):\n",
        "  fig1, ax1 = plt.subplots(figsize=(20,6))\n",
        "  ax1.pie(sizes_associated[i], shadow=False)\n",
        "  ax1.axis('equal')\n",
        "  plt.title(questions[i])\n",
        "  plt.legend(labels=[f'{l}, {s:0.1f}%' for l, s in zip(labels_associated[i], percents_associated[i])], loc='right')\n",
        "  plt.show()"
      ],
      "metadata": {
        "colab": {
          "base_uri": "https://localhost:8080/",
          "height": 1000
        },
        "id": "AoQodyg_I84Q",
        "outputId": "7acb412f-a913-45a6-ddfb-d5835f7c7de3"
      },
      "execution_count": 348,
      "outputs": [
        {
          "output_type": "display_data",
          "data": {
            "image/png": "[encoded data removed]",
            "text/plain": [
              "<Figure size 1440x432 with 1 Axes>"
            ]
          },
          "metadata": {}
        },
        {
          "output_type": "display_data",
          "data": {
            "image/png": "[encoded data removed]",
            "text/plain": [
              "<Figure size 1440x432 with 1 Axes>"
            ]
          },
          "metadata": {}
        },
        {
          "output_type": "display_data",
          "data": {
            "image/png": "[encoded data removed]",
            "text/plain": [
              "<Figure size 1440x432 with 1 Axes>"
            ]
          },
          "metadata": {}
        },
        {
          "output_type": "display_data",
          "data": {
            "image/png": "[encoded data removed]",
            "text/plain": [
              "<Figure size 1440x432 with 1 Axes>"
            ]
          },
          "metadata": {}
        },
        {
          "output_type": "display_data",
          "data": {
            "image/png": "[encoded data removed]",
            "text/plain": [
              "<Figure size 1440x432 with 1 Axes>"
            ]
          },
          "metadata": {}
        }
      ]
    },
    {
      "cell_type": "markdown",
      "source": [
        "## Responses"
      ],
      "metadata": {
        "id": "5obrrfG8f-mp"
      }
    },
    {
      "cell_type": "code",
      "source": [
        "data['city'].value_counts()"
      ],
      "metadata": {
        "colab": {
          "base_uri": "https://localhost:8080/"
        },
        "id": "I2f4yicKJx1z",
        "outputId": "8792dd36-258e-4dfd-84eb-7a50d7799fe9"
      },
      "execution_count": 349,
      "outputs": [
        {
          "output_type": "execute_result",
          "data": {
            "text/plain": [
              "Nancy                        216\n",
              "Outside Grand Nancy           57\n",
              "Vandoeuvre-les-Nancy          55\n",
              "Villers-les-Nancy             44\n",
              "Essey-lès-Nancy               29\n",
              "Laxou                         17\n",
              "Saint-Max                     11\n",
              "Maxéville                     10\n",
              "Jarville-la-Malgrange          9\n",
              "Ludres                         7\n",
              "Malzéville                     7\n",
              "Tomblaine                      7\n",
              "Houdemont                      6\n",
              "Heillecourt                    5\n",
              "Seichamps                      4\n",
              "Pulnoy                         2\n",
              "Saulxures-les-Nancy            2\n",
              "Laneuveville-devant-Nancy      2\n",
              "Art-sur-Meurthe                1\n",
              "Dommartemont                   1\n",
              "Name: city, dtype: int64"
            ]
          },
          "metadata": {},
          "execution_count": 349
        }
      ]
    },
    {
      "cell_type": "markdown",
      "source": [
        "We calculate the color according to the proportion."
      ],
      "metadata": {
        "id": "Z9EQuoUgA9nY"
      }
    },
    {
      "cell_type": "code",
      "source": [
        "def colors_from_values(values, palette_name):\n",
        "    # normalize the values to range [0, 1]\n",
        "    normalized = (values - min(values)) / (max(values) - min(values))\n",
        "    # convert to indices\n",
        "    indices = np.round(normalized * (len(values) - 1)).astype(np.int32)\n",
        "    # use the indices to get the colors\n",
        "    palette = sns.color_palette(palette_name, len(values))\n",
        "    return np.array(palette).take(indices, axis=0)"
      ],
      "metadata": {
        "id": "sBL1dy7WG1X7"
      },
      "execution_count": 350,
      "outputs": []
    },
    {
      "cell_type": "code",
      "source": [
        "q = ['first', 'second', 'third']\n",
        "fig, axes = plt.subplots(1, 3, sharex=True, figsize=(20,6))\n",
        "fig.suptitle('Responses')\n",
        "for i in range(0, 3, 1):\n",
        "  axes[i].set_title(q[i])\n",
        "  ordonned_array = []\n",
        "  for y in range(1, 7, 1):\n",
        "    ordonned_array.append(data[targets[i]].value_counts().get(y))\n",
        "  axes[i].set_xlabel('disagree                                                  agree')\n",
        "  axes[i].set_ylabel('vote')\n",
        "  sns.barplot(ax=axes[i], x=np.arange(1, 7, 1), y=ordonned_array, palette=colors_from_values(ordonned_array, \"bone_r\"))"
      ],
      "metadata": {
        "colab": {
          "base_uri": "https://localhost:8080/",
          "height": 431
        },
        "id": "R4sy94p0xLUJ",
        "outputId": "844ee60d-0137-4c0c-f087-470a8c7e1a47"
      },
      "execution_count": 351,
      "outputs": [
        {
          "output_type": "display_data",
          "data": {
            "image/png": "[encoded data removed]",
            "text/plain": [
              "<Figure size 1440x432 with 3 Axes>"
            ]
          },
          "metadata": {}
        }
      ]
    },
    {
      "cell_type": "code",
      "source": [
        "precisions = [{'type': ['low'], 'in': [[1,2,3],[4,5,6]], 'out': [1,2], 'max': [2]},\n",
        "              {'type': ['medium'], 'in': [[1,2],[3,4],[5,6]], 'out': [1,2,3], 'max': [3]},\n",
        "              {'type': ['high'], 'max': [3]}]"
      ],
      "metadata": {
        "id": "3ObrJ6GAMRNA"
      },
      "execution_count": 352,
      "outputs": []
    },
    {
      "cell_type": "markdown",
      "source": [
        "# Train"
      ],
      "metadata": {
        "id": "ri7y0GKJdnNP"
      }
    },
    {
      "cell_type": "markdown",
      "source": [
        "The main goal is to **find the best classifier** within a reasonable execution time. In addition, the **lack of data** forces us to have it classify as optimized as possible."
      ],
      "metadata": {
        "id": "tDyZp5ztSgGk"
      }
    },
    {
      "cell_type": "markdown",
      "source": [
        "**Let's train!** 🧠"
      ],
      "metadata": {
        "id": "VwugvSFRVod0"
      }
    },
    {
      "cell_type": "markdown",
      "source": [
        "## Helpers for pritting logs"
      ],
      "metadata": {
        "id": "-rRbO-S4eo6X"
      }
    },
    {
      "cell_type": "code",
      "source": [
        "def add_sufficient_dash(text, limit):\n",
        "  text = '  ' + text + '  '\n",
        "  to_add = limit - len(text)\n",
        "  left = to_add//2\n",
        "  right = left\n",
        "  while left >= 0:\n",
        "    left = left - 1\n",
        "    text = '-' + text\n",
        "  while right >= 0:\n",
        "    right = right - 1\n",
        "    text = text + '-'\n",
        "  return text"
      ],
      "metadata": {
        "id": "8JhEMyO-495V"
      },
      "execution_count": 353,
      "outputs": []
    },
    {
      "cell_type": "code",
      "source": [
        "def add_sufficient_blank(text, final_word, limit):\n",
        "  while limit-11-(len(text)) >= 0:\n",
        "    text = text + ' '\n",
        "  text = text + final_word\n",
        "  return text"
      ],
      "metadata": {
        "id": "CmMJe2oc8BqG"
      },
      "execution_count": 354,
      "outputs": []
    },
    {
      "cell_type": "markdown",
      "source": [
        "## Precision reduction\n"
      ],
      "metadata": {
        "id": "EFJ4hfc_eM1Y"
      }
    },
    {
      "cell_type": "markdown",
      "source": [
        "We reduce the precision of the answers so that the classification is less wrong. Indeed, we notice that it is often wrong with a unit. Therefore, it is advantageous to **reduce the scope of the responses**, to allow the user to obtain **more general but more precise responses**.\n",
        "\n",
        "Three reduction methods are available:\n",
        "\n",
        "1.   **High** : Default mode, we return the targets as they are.\n",
        "2.   **Medium** : divide by 2 the reponses :\n",
        "  *   [1; 2] to 1\n",
        "  *   [3; 4] to 2\n",
        "  *   [5; 6] to 3\n",
        "3.   **Low** : divide by 3 the responses : \n",
        "  *   [1; 3] to 1\n",
        "  *   [4; 6] to 2\n"
      ],
      "metadata": {
        "id": "zSuiMCrQLdqO"
      }
    },
    {
      "cell_type": "code",
      "execution_count": 355,
      "metadata": {
        "id": "XYhWBPVTShYN"
      },
      "outputs": [],
      "source": [
        "def reducing_medium_precision(value):\n",
        "  if value == 1 or value == 2:\n",
        "    return 1\n",
        "  if value == 3 or value == 4:\n",
        "    return 2\n",
        "  if value == 5 or value == 6:\n",
        "    return 3"
      ]
    },
    {
      "cell_type": "code",
      "execution_count": 356,
      "metadata": {
        "id": "WxVZIGDeWfSb"
      },
      "outputs": [],
      "source": [
        "def reducing_low_precision(value):\n",
        "  if value >=1 and value <= 3:\n",
        "    return 1\n",
        "  elif value >=4 and value <= 6:\n",
        "    return 2"
      ]
    },
    {
      "cell_type": "code",
      "execution_count": 357,
      "metadata": {
        "id": "xmZrpdumW4jR"
      },
      "outputs": [],
      "source": [
        "def reducing_target_precision(dataset, targets, precision):\n",
        "  if precision == 'high':\n",
        "    return dataset\n",
        "  if precision == 'medium':\n",
        "    for t in targets:\n",
        "      dataset[t] = dataset[t].apply(reducing_medium_precision)\n",
        "  elif precision == 'low':\n",
        "    for t in targets:\n",
        "      dataset[t] = dataset[t].apply(reducing_low_precision)\n",
        "  else:\n",
        "    return \"Please use only precision='high' or precision='medium' or precision='low' downsizing.\"\n",
        "  return dataset"
      ]
    },
    {
      "cell_type": "code",
      "execution_count": 358,
      "metadata": {
        "colab": {
          "base_uri": "https://localhost:8080/",
          "height": 424
        },
        "id": "0U7EN0FgQy3B",
        "outputId": "c1c62e72-1e69-4516-dcd0-048a0f607df8"
      },
      "outputs": [
        {
          "output_type": "execute_result",
          "data": {
            "text/html": [
              "\n",
              "  <div id=\"df-1cc19cc4-c8b1-48cb-9e2f-d97c27b0140f\">\n",
              "    <div class=\"colab-df-container\">\n",
              "      <div>\n",
              "<style scoped>\n",
              "    .dataframe tbody tr th:only-of-type {\n",
              "        vertical-align: middle;\n",
              "    }\n",
              "\n",
              "    .dataframe tbody tr th {\n",
              "        vertical-align: top;\n",
              "    }\n",
              "\n",
              "    .dataframe thead th {\n",
              "        text-align: right;\n",
              "    }\n",
              "</style>\n",
              "<table border=\"1\" class=\"dataframe\">\n",
              "  <thead>\n",
              "    <tr style=\"text-align: right;\">\n",
              "      <th></th>\n",
              "      <th>time</th>\n",
              "      <th>name</th>\n",
              "      <th>gender</th>\n",
              "      <th>old</th>\n",
              "      <th>city</th>\n",
              "      <th>socio-professional-category</th>\n",
              "      <th>dependent</th>\n",
              "      <th>first</th>\n",
              "      <th>second</th>\n",
              "      <th>third</th>\n",
              "    </tr>\n",
              "  </thead>\n",
              "  <tbody>\n",
              "    <tr>\n",
              "      <th>0</th>\n",
              "      <td>24/11/2021 13:11:49</td>\n",
              "      <td>Alexandre</td>\n",
              "      <td>Male</td>\n",
              "      <td>18-25</td>\n",
              "      <td>Essey-lès-Nancy</td>\n",
              "      <td>Executive</td>\n",
              "      <td>0</td>\n",
              "      <td>3</td>\n",
              "      <td>1</td>\n",
              "      <td>1</td>\n",
              "    </tr>\n",
              "    <tr>\n",
              "      <th>1</th>\n",
              "      <td>26/11/2021 09:55:18</td>\n",
              "      <td>Jessica</td>\n",
              "      <td>Female</td>\n",
              "      <td>18-25</td>\n",
              "      <td>Outside Grand Nancy</td>\n",
              "      <td>Students / Apprentice</td>\n",
              "      <td>0</td>\n",
              "      <td>3</td>\n",
              "      <td>2</td>\n",
              "      <td>2</td>\n",
              "    </tr>\n",
              "    <tr>\n",
              "      <th>2</th>\n",
              "      <td>26/11/2021 10:45:55</td>\n",
              "      <td>Thomas</td>\n",
              "      <td>Male</td>\n",
              "      <td>18-25</td>\n",
              "      <td>Nancy</td>\n",
              "      <td>Students / Apprentice</td>\n",
              "      <td>0</td>\n",
              "      <td>2</td>\n",
              "      <td>1</td>\n",
              "      <td>3</td>\n",
              "    </tr>\n",
              "    <tr>\n",
              "      <th>3</th>\n",
              "      <td>26/11/2021 10:47:17</td>\n",
              "      <td>Romain</td>\n",
              "      <td>Male</td>\n",
              "      <td>18-25</td>\n",
              "      <td>Nancy</td>\n",
              "      <td>Students / Apprentice</td>\n",
              "      <td>0</td>\n",
              "      <td>3</td>\n",
              "      <td>3</td>\n",
              "      <td>2</td>\n",
              "    </tr>\n",
              "    <tr>\n",
              "      <th>4</th>\n",
              "      <td>26/11/2021 10:48:10</td>\n",
              "      <td>Antoine</td>\n",
              "      <td>Male</td>\n",
              "      <td>18-25</td>\n",
              "      <td>Nancy</td>\n",
              "      <td>Students / Apprentice</td>\n",
              "      <td>0</td>\n",
              "      <td>2</td>\n",
              "      <td>1</td>\n",
              "      <td>1</td>\n",
              "    </tr>\n",
              "    <tr>\n",
              "      <th>...</th>\n",
              "      <td>...</td>\n",
              "      <td>...</td>\n",
              "      <td>...</td>\n",
              "      <td>...</td>\n",
              "      <td>...</td>\n",
              "      <td>...</td>\n",
              "      <td>...</td>\n",
              "      <td>...</td>\n",
              "      <td>...</td>\n",
              "      <td>...</td>\n",
              "    </tr>\n",
              "    <tr>\n",
              "      <th>487</th>\n",
              "      <td>15/12/2021 20:46:29</td>\n",
              "      <td>Tony</td>\n",
              "      <td>Male</td>\n",
              "      <td>26-40</td>\n",
              "      <td>Tomblaine</td>\n",
              "      <td>Employees</td>\n",
              "      <td>0</td>\n",
              "      <td>3</td>\n",
              "      <td>3</td>\n",
              "      <td>2</td>\n",
              "    </tr>\n",
              "    <tr>\n",
              "      <th>488</th>\n",
              "      <td>16/12/2021 20:16:52</td>\n",
              "      <td>None</td>\n",
              "      <td>Other</td>\n",
              "      <td>26-40</td>\n",
              "      <td>Art-sur-Meurthe</td>\n",
              "      <td>Craftsmen / Shopkeeper</td>\n",
              "      <td>0</td>\n",
              "      <td>1</td>\n",
              "      <td>1</td>\n",
              "      <td>1</td>\n",
              "    </tr>\n",
              "    <tr>\n",
              "      <th>489</th>\n",
              "      <td>18/12/2021 17:03:33</td>\n",
              "      <td>Kevin</td>\n",
              "      <td>Male</td>\n",
              "      <td>18-25</td>\n",
              "      <td>Nancy</td>\n",
              "      <td>Worker</td>\n",
              "      <td>0</td>\n",
              "      <td>3</td>\n",
              "      <td>3</td>\n",
              "      <td>2</td>\n",
              "    </tr>\n",
              "    <tr>\n",
              "      <th>490</th>\n",
              "      <td>18/12/2021 17:45:58</td>\n",
              "      <td>sandra</td>\n",
              "      <td>Female</td>\n",
              "      <td>Less than 18</td>\n",
              "      <td>Nancy</td>\n",
              "      <td>Unemployed</td>\n",
              "      <td>0</td>\n",
              "      <td>2</td>\n",
              "      <td>3</td>\n",
              "      <td>2</td>\n",
              "    </tr>\n",
              "    <tr>\n",
              "      <th>491</th>\n",
              "      <td>19/12/2021 11:23:44</td>\n",
              "      <td>Louis</td>\n",
              "      <td>Male</td>\n",
              "      <td>18-25</td>\n",
              "      <td>Nancy</td>\n",
              "      <td>Students / Apprentice</td>\n",
              "      <td>0</td>\n",
              "      <td>2</td>\n",
              "      <td>1</td>\n",
              "      <td>1</td>\n",
              "    </tr>\n",
              "  </tbody>\n",
              "</table>\n",
              "<p>492 rows × 10 columns</p>\n",
              "</div>\n",
              "      <button class=\"colab-df-convert\" onclick=\"convertToInteractive('df-1cc19cc4-c8b1-48cb-9e2f-d97c27b0140f')\"\n",
              "              title=\"Convert this dataframe to an interactive table.\"\n",
              "              style=\"display:none;\">\n",
              "        \n",
              "  <svg xmlns=\"http://www.w3.org/2000/svg\" height=\"24px\"viewBox=\"0 0 24 24\"\n",
              "       width=\"24px\">\n",
              "    <path d=\"M0 0h24v24H0V0z\" fill=\"none\"/>\n",
              "    <path d=\"M18.56 5.44l.94 2.06.94-2.06 2.06-.94-2.06-.94-.94-2.06-.94 2.06-2.06.94zm-11 1L8.5 8.5l.94-2.06 2.06-.94-2.06-.94L8.5 2.5l-.94 2.06-2.06.94zm10 10l.94 2.06.94-2.06 2.06-.94-2.06-.94-.94-2.06-.94 2.06-2.06.94z\"/><path d=\"M17.41 7.96l-1.37-1.37c-.4-.4-.92-.59-1.43-.59-.52 0-1.04.2-1.43.59L10.3 9.45l-7.72 7.72c-.78.78-.78 2.05 0 2.83L4 21.41c.39.39.9.59 1.41.59.51 0 1.02-.2 1.41-.59l7.78-7.78 2.81-2.81c.8-.78.8-2.07 0-2.86zM5.41 20L4 18.59l7.72-7.72 1.47 1.35L5.41 20z\"/>\n",
              "  </svg>\n",
              "      </button>\n",
              "      \n",
              "  <style>\n",
              "    .colab-df-container {\n",
              "      display:flex;\n",
              "      flex-wrap:wrap;\n",
              "      gap: 12px;\n",
              "    }\n",
              "\n",
              "    .colab-df-convert {\n",
              "      background-color: #E8F0FE;\n",
              "      border: none;\n",
              "      border-radius: 50%;\n",
              "      cursor: pointer;\n",
              "      display: none;\n",
              "      fill: #1967D2;\n",
              "      height: 32px;\n",
              "      padding: 0 0 0 0;\n",
              "      width: 32px;\n",
              "    }\n",
              "\n",
              "    .colab-df-convert:hover {\n",
              "      background-color: #E2EBFA;\n",
              "      box-shadow: 0px 1px 2px rgba(60, 64, 67, 0.3), 0px 1px 3px 1px rgba(60, 64, 67, 0.15);\n",
              "      fill: #174EA6;\n",
              "    }\n",
              "\n",
              "    [theme=dark] .colab-df-convert {\n",
              "      background-color: #3B4455;\n",
              "      fill: #D2E3FC;\n",
              "    }\n",
              "\n",
              "    [theme=dark] .colab-df-convert:hover {\n",
              "      background-color: #434B5C;\n",
              "      box-shadow: 0px 1px 3px 1px rgba(0, 0, 0, 0.15);\n",
              "      filter: drop-shadow(0px 1px 2px rgba(0, 0, 0, 0.3));\n",
              "      fill: #FFFFFF;\n",
              "    }\n",
              "  </style>\n",
              "\n",
              "      <script>\n",
              "        const buttonEl =\n",
              "          document.querySelector('#df-1cc19cc4-c8b1-48cb-9e2f-d97c27b0140f button.colab-df-convert');\n",
              "        buttonEl.style.display =\n",
              "          google.colab.kernel.accessAllowed ? 'block' : 'none';\n",
              "\n",
              "        async function convertToInteractive(key) {\n",
              "          const element = document.querySelector('#df-1cc19cc4-c8b1-48cb-9e2f-d97c27b0140f');\n",
              "          const dataTable =\n",
              "            await google.colab.kernel.invokeFunction('convertToInteractive',\n",
              "                                                     [key], {});\n",
              "          if (!dataTable) return;\n",
              "\n",
              "          const docLinkHtml = 'Like what you see? Visit the ' +\n",
              "            '<a target=\"_blank\" href=https://colab.research.google.com/notebooks/data_table.ipynb>data table notebook</a>'\n",
              "            + ' to learn more about interactive tables.';\n",
              "          element.innerHTML = '';\n",
              "          dataTable['output_type'] = 'display_data';\n",
              "          await google.colab.output.renderOutput(dataTable, element);\n",
              "          const docLink = document.createElement('div');\n",
              "          docLink.innerHTML = docLinkHtml;\n",
              "          element.appendChild(docLink);\n",
              "        }\n",
              "      </script>\n",
              "    </div>\n",
              "  </div>\n",
              "  "
            ],
            "text/plain": [
              "                    time       name  gender  ... first second third\n",
              "0    24/11/2021 13:11:49  Alexandre    Male  ...     3      1     1\n",
              "1    26/11/2021 09:55:18    Jessica  Female  ...     3      2     2\n",
              "2    26/11/2021 10:45:55     Thomas    Male  ...     2      1     3\n",
              "3    26/11/2021 10:47:17     Romain    Male  ...     3      3     2\n",
              "4    26/11/2021 10:48:10    Antoine    Male  ...     2      1     1\n",
              "..                   ...        ...     ...  ...   ...    ...   ...\n",
              "487  15/12/2021 20:46:29       Tony    Male  ...     3      3     2\n",
              "488  16/12/2021 20:16:52       None   Other  ...     1      1     1\n",
              "489  18/12/2021 17:03:33      Kevin    Male  ...     3      3     2\n",
              "490  18/12/2021 17:45:58    sandra   Female  ...     2      3     2\n",
              "491  19/12/2021 11:23:44      Louis    Male  ...     2      1     1\n",
              "\n",
              "[492 rows x 10 columns]"
            ]
          },
          "metadata": {},
          "execution_count": 358
        }
      ],
      "source": [
        "reducing_target_precision(data, ['first', 'second', 'third'], 'medium')"
      ]
    },
    {
      "cell_type": "markdown",
      "source": [
        "## Main function"
      ],
      "metadata": {
        "id": "cZOsLjEGeS9S"
      }
    },
    {
      "cell_type": "markdown",
      "source": [
        "We iterate in a loop with the following process:\n",
        "\n",
        "\n",
        "1.   **Reducing** targets (optionaly).\n",
        "2.   **Spliting** dataset into a training and test set.\n",
        "3.   **Getting** numerical and categorical features.\n",
        "4.   **Creating** numerical and categorical transformer.\n",
        "5.   **Iterating** into pipeline and getting the better classifier following the better accuracy.\n",
        "6.   **Returns** an array containing: \n",
        "  *   Better classifier\n",
        "  *   Target\n",
        "  *   Precision used\n",
        "  *   DataFrame representing results\n"
      ],
      "metadata": {
        "id": "Ghg05ruBVuqL"
      }
    },
    {
      "cell_type": "code",
      "execution_count": 359,
      "metadata": {
        "id": "8FqnmHT9hZ6z"
      },
      "outputs": [],
      "source": [
        "def train(dataset, X_data, y_data, questions, test_size, precision):\n",
        "  print(add_sufficient_dash(\"Training model\", 60))\n",
        "  t = test_size\n",
        "  print(add_sufficient_blank('Import parameters', '\\033[92m Successfuly \\033[0m', 60))\n",
        "  data = reducing_target_precision(dataset, questions, precision)\n",
        "  X = dataset.drop(X_data, axis=1)\n",
        "  y = dataset[y_data]\n",
        "  print(add_sufficient_blank('Reducing targets with precision={}'.format(precision), '\\033[92m Successfuly \\033[0m', 60))\n",
        "  X_train, X_test, y_train, y_test = train_test_split(X, y, test_size=t)\n",
        "  print(add_sufficient_blank('Seperating train and test data with test_size={}'.format(t), '\\033[92m Successfuly \\033[0m', 60))\n",
        "  numerical_features = make_column_selector(dtype_include=np.number)\n",
        "  categorical_features = make_column_selector(dtype_exclude=np.number)\n",
        "  print(add_sufficient_blank('Getting numerical and categorical features', '\\033[92m Successfuly \\033[0m', 60))\n",
        "  numeric_transformer = Pipeline(steps=[('stdscaler', StandardScaler())])\n",
        "  categorical_transformer = Pipeline(steps=[('onehotenc', OneHotEncoder(handle_unknown='ignore'))])\n",
        "  print(add_sufficient_blank('Creating numerical and categorical transformer', '\\033[92m Successfuly \\033[0m', 60))\n",
        "  col_transformer = ColumnTransformer(transformers=[('numeric_processing', numeric_transformer, numerical_features), \n",
        "                                                  ('categorical_processing', categorical_transformer, categorical_features)])\n",
        "  print(add_sufficient_blank('Assembling transformers', '\\033[92m Successfuly \\033[0m', 60))\n",
        "  estimators = [KNeighborsClassifier(), SVC(), BaggingClassifier(), AdaBoostClassifier(), GradientBoostingClassifier()]\n",
        "  estimators_name = ['knn', 'svc', 'baggingclassifier', 'adaboostclassifier', 'gradientboostingclassifier']\n",
        "  params = [{\"knn__n_neighbors\": np.arange(1, 30, 1), \"knn__p\": [1, 2]}, \n",
        "            {\"svc__kernel\": [\"rbf\", \"linear\", 'poly', 'sigmoid'], \"svc__gamma\": [1e-3], \"svc__C\": [1, 10, 100]}, \n",
        "            {\"baggingclassifier__base_estimator\": [KNeighborsClassifier(), SVC()], \"baggingclassifier__n_estimators\":[25,50,100]}, \n",
        "            {\"adaboostclassifier__n_estimators\":[25,50,100]},\n",
        "            {\"gradientboostingclassifier__n_estimators\":[25,50,100]}]\n",
        "  print(\"Params: {}\".format([e for e in params]))\n",
        "  array = pd.DataFrame()\n",
        "  for i in range(0, len(estimators), 1):\n",
        "    model = GridSearchCV(Pipeline([\n",
        "                      ('transform_column', col_transformer),\n",
        "                        (estimators_name[i], estimators[i])\n",
        "                        ]), params[i])\n",
        "    model.fit(X_train, y_train)\n",
        "    print(add_sufficient_blank('Fitting {}'.format(estimators_name[i]), '\\033[92m Successfuly \\033[0m', 60))\n",
        "    if i == 0:\n",
        "      best_classifier = model\n",
        "    score = model.score(X_test, y_test)\n",
        "    best_score = best_classifier.score(X_test, y_test)\n",
        "    array = array.append(pd.DataFrame({'name': estimators_name[i], 'score': [score]}))\n",
        "    if score > best_score:\n",
        "      best_classifier = model\n",
        "  print(add_sufficient_dash(\"All models have been trained!\", 60))\n",
        "  return [best_classifier, y_data, precision, array]"
      ]
    },
    {
      "cell_type": "markdown",
      "source": [
        "## First"
      ],
      "metadata": {
        "id": "_5Du7kwGet1S"
      }
    },
    {
      "cell_type": "markdown",
      "source": [
        "Predicting if people are **agree to make Grand Nancy much greener** (First question).\n",
        "\n",
        "*   **to_drop**: Time, Name and First.\n",
        "*   **target**: First.\n",
        "*   **all targets**: First, second and third.\n",
        "*   **test_size**: 10%.\n",
        "*   **precision**: High.\n",
        "\n",
        "\n"
      ],
      "metadata": {
        "id": "g0e8zgmWdBzr"
      }
    },
    {
      "cell_type": "code",
      "execution_count": 360,
      "metadata": {
        "colab": {
          "base_uri": "https://localhost:8080/",
          "height": 1000
        },
        "outputId": "099df05b-f2b7-47eb-932b-4c32ca2142b3",
        "id": "3TKOB4RudBz4"
      },
      "outputs": [
        {
          "output_type": "stream",
          "name": "stdout",
          "text": [
            "----------------------  Training model  ----------------------\n",
            "Import parameters                                 \u001b[92m Successfuly \u001b[0m\n",
            "Reducing targets with precision=high              \u001b[92m Successfuly \u001b[0m\n",
            "Seperating train and test data with test_size=0.1 \u001b[92m Successfuly \u001b[0m\n",
            "Getting numerical and categorical features        \u001b[92m Successfuly \u001b[0m\n",
            "Creating numerical and categorical transformer    \u001b[92m Successfuly \u001b[0m\n",
            "Assembling transformers                           \u001b[92m Successfuly \u001b[0m\n",
            "Params: [{'knn__n_neighbors': array([ 1,  2,  3,  4,  5,  6,  7,  8,  9, 10, 11, 12, 13, 14, 15, 16, 17,\n",
            "       18, 19, 20, 21, 22, 23, 24, 25, 26, 27, 28, 29]), 'knn__p': [1, 2]}, {'svc__kernel': ['rbf', 'linear', 'poly', 'sigmoid'], 'svc__gamma': [0.001], 'svc__C': [1, 10, 100]}, {'baggingclassifier__base_estimator': [KNeighborsClassifier(), SVC()], 'baggingclassifier__n_estimators': [25, 50, 100]}, {'adaboostclassifier__n_estimators': [25, 50, 100]}, {'gradientboostingclassifier__n_estimators': [25, 50, 100]}]\n",
            "Fitting knn                                       \u001b[92m Successfuly \u001b[0m\n",
            "Fitting svc                                       \u001b[92m Successfuly \u001b[0m\n"
          ]
        },
        {
          "output_type": "stream",
          "name": "stderr",
          "text": [
            "/usr/local/lib/python3.7/dist-packages/sklearn/model_selection/_validation.py:372: FitFailedWarning: \n",
            "1 fits failed out of a total of 30.\n",
            "The score on these train-test partitions for these parameters will be set to nan.\n",
            "If these failures are not expected, you can try to debug them by setting error_score='raise'.\n",
            "\n",
            "Below are more details about the failures:\n",
            "--------------------------------------------------------------------------------\n",
            "1 fits failed with the following error:\n",
            "Traceback (most recent call last):\n",
            "  File \"/usr/local/lib/python3.7/dist-packages/sklearn/model_selection/_validation.py\", line 681, in _fit_and_score\n",
            "    estimator.fit(X_train, y_train, **fit_params)\n",
            "  File \"/usr/local/lib/python3.7/dist-packages/sklearn/pipeline.py\", line 394, in fit\n",
            "    self._final_estimator.fit(Xt, y, **fit_params_last_step)\n",
            "  File \"/usr/local/lib/python3.7/dist-packages/sklearn/ensemble/_bagging.py\", line 269, in fit\n",
            "    return self._fit(X, y, self.max_samples, sample_weight=sample_weight)\n",
            "  File \"/usr/local/lib/python3.7/dist-packages/sklearn/ensemble/_bagging.py\", line 407, in _fit\n",
            "    for i in range(n_jobs)\n",
            "  File \"/usr/local/lib/python3.7/dist-packages/joblib/parallel.py\", line 1043, in __call__\n",
            "    if self.dispatch_one_batch(iterator):\n",
            "  File \"/usr/local/lib/python3.7/dist-packages/joblib/parallel.py\", line 861, in dispatch_one_batch\n",
            "    self._dispatch(tasks)\n",
            "  File \"/usr/local/lib/python3.7/dist-packages/joblib/parallel.py\", line 779, in _dispatch\n",
            "    job = self._backend.apply_async(batch, callback=cb)\n",
            "  File \"/usr/local/lib/python3.7/dist-packages/joblib/_parallel_backends.py\", line 208, in apply_async\n",
            "    result = ImmediateResult(func)\n",
            "  File \"/usr/local/lib/python3.7/dist-packages/joblib/_parallel_backends.py\", line 572, in __init__\n",
            "    self.results = batch()\n",
            "  File \"/usr/local/lib/python3.7/dist-packages/joblib/parallel.py\", line 263, in __call__\n",
            "    for func, args, kwargs in self.items]\n",
            "  File \"/usr/local/lib/python3.7/dist-packages/joblib/parallel.py\", line 263, in <listcomp>\n",
            "    for func, args, kwargs in self.items]\n",
            "  File \"/usr/local/lib/python3.7/dist-packages/sklearn/utils/fixes.py\", line 211, in __call__\n",
            "    return self.function(*args, **kwargs)\n",
            "  File \"/usr/local/lib/python3.7/dist-packages/sklearn/ensemble/_bagging.py\", line 123, in _parallel_build_estimators\n",
            "    estimator.fit(X[:, features], y, sample_weight=curr_sample_weight)\n",
            "  File \"/usr/local/lib/python3.7/dist-packages/sklearn/svm/_base.py\", line 255, in fit\n",
            "    fit(X, y, sample_weight, solver_type, kernel, random_seed=seed)\n",
            "  File \"/usr/local/lib/python3.7/dist-packages/sklearn/svm/_base.py\", line 395, in _sparse_fit\n",
            "    (dual_coef_data, dual_coef_indices, dual_coef_indptr), (n_class, n_SV)\n",
            "  File \"/usr/local/lib/python3.7/dist-packages/scipy/sparse/compressed.py\", line 108, in __init__\n",
            "    self.check_format(full_check=False)\n",
            "  File \"/usr/local/lib/python3.7/dist-packages/scipy/sparse/compressed.py\", line 178, in check_format\n",
            "    raise ValueError(\"indices and data should have the same size\")\n",
            "ValueError: indices and data should have the same size\n",
            "\n",
            "  warnings.warn(some_fits_failed_message, FitFailedWarning)\n",
            "/usr/local/lib/python3.7/dist-packages/sklearn/model_selection/_search.py:972: UserWarning: One or more of the test scores are non-finite: [0.44576098 0.42995403 0.43899387 0.45702247        nan 0.44800817]\n",
            "  category=UserWarning,\n"
          ]
        },
        {
          "output_type": "stream",
          "name": "stdout",
          "text": [
            "Fitting baggingclassifier                         \u001b[92m Successfuly \u001b[0m\n",
            "Fitting adaboostclassifier                        \u001b[92m Successfuly \u001b[0m\n",
            "Fitting gradientboostingclassifier                \u001b[92m Successfuly \u001b[0m\n",
            "--------------  All models have been trained!  --------------\n"
          ]
        },
        {
          "output_type": "execute_result",
          "data": {
            "text/html": [
              "\n",
              "  <div id=\"df-2c9a7f9d-1f8a-45ad-a371-9397683494b2\">\n",
              "    <div class=\"colab-df-container\">\n",
              "      <div>\n",
              "<style scoped>\n",
              "    .dataframe tbody tr th:only-of-type {\n",
              "        vertical-align: middle;\n",
              "    }\n",
              "\n",
              "    .dataframe tbody tr th {\n",
              "        vertical-align: top;\n",
              "    }\n",
              "\n",
              "    .dataframe thead th {\n",
              "        text-align: right;\n",
              "    }\n",
              "</style>\n",
              "<table border=\"1\" class=\"dataframe\">\n",
              "  <thead>\n",
              "    <tr style=\"text-align: right;\">\n",
              "      <th></th>\n",
              "      <th>name</th>\n",
              "      <th>score</th>\n",
              "    </tr>\n",
              "  </thead>\n",
              "  <tbody>\n",
              "    <tr>\n",
              "      <th>0</th>\n",
              "      <td>knn</td>\n",
              "      <td>0.48</td>\n",
              "    </tr>\n",
              "    <tr>\n",
              "      <th>0</th>\n",
              "      <td>svc</td>\n",
              "      <td>0.40</td>\n",
              "    </tr>\n",
              "    <tr>\n",
              "      <th>0</th>\n",
              "      <td>baggingclassifier</td>\n",
              "      <td>0.48</td>\n",
              "    </tr>\n",
              "    <tr>\n",
              "      <th>0</th>\n",
              "      <td>adaboostclassifier</td>\n",
              "      <td>0.34</td>\n",
              "    </tr>\n",
              "    <tr>\n",
              "      <th>0</th>\n",
              "      <td>gradientboostingclassifier</td>\n",
              "      <td>0.46</td>\n",
              "    </tr>\n",
              "  </tbody>\n",
              "</table>\n",
              "</div>\n",
              "      <button class=\"colab-df-convert\" onclick=\"convertToInteractive('df-2c9a7f9d-1f8a-45ad-a371-9397683494b2')\"\n",
              "              title=\"Convert this dataframe to an interactive table.\"\n",
              "              style=\"display:none;\">\n",
              "        \n",
              "  <svg xmlns=\"http://www.w3.org/2000/svg\" height=\"24px\"viewBox=\"0 0 24 24\"\n",
              "       width=\"24px\">\n",
              "    <path d=\"M0 0h24v24H0V0z\" fill=\"none\"/>\n",
              "    <path d=\"M18.56 5.44l.94 2.06.94-2.06 2.06-.94-2.06-.94-.94-2.06-.94 2.06-2.06.94zm-11 1L8.5 8.5l.94-2.06 2.06-.94-2.06-.94L8.5 2.5l-.94 2.06-2.06.94zm10 10l.94 2.06.94-2.06 2.06-.94-2.06-.94-.94-2.06-.94 2.06-2.06.94z\"/><path d=\"M17.41 7.96l-1.37-1.37c-.4-.4-.92-.59-1.43-.59-.52 0-1.04.2-1.43.59L10.3 9.45l-7.72 7.72c-.78.78-.78 2.05 0 2.83L4 21.41c.39.39.9.59 1.41.59.51 0 1.02-.2 1.41-.59l7.78-7.78 2.81-2.81c.8-.78.8-2.07 0-2.86zM5.41 20L4 18.59l7.72-7.72 1.47 1.35L5.41 20z\"/>\n",
              "  </svg>\n",
              "      </button>\n",
              "      \n",
              "  <style>\n",
              "    .colab-df-container {\n",
              "      display:flex;\n",
              "      flex-wrap:wrap;\n",
              "      gap: 12px;\n",
              "    }\n",
              "\n",
              "    .colab-df-convert {\n",
              "      background-color: #E8F0FE;\n",
              "      border: none;\n",
              "      border-radius: 50%;\n",
              "      cursor: pointer;\n",
              "      display: none;\n",
              "      fill: #1967D2;\n",
              "      height: 32px;\n",
              "      padding: 0 0 0 0;\n",
              "      width: 32px;\n",
              "    }\n",
              "\n",
              "    .colab-df-convert:hover {\n",
              "      background-color: #E2EBFA;\n",
              "      box-shadow: 0px 1px 2px rgba(60, 64, 67, 0.3), 0px 1px 3px 1px rgba(60, 64, 67, 0.15);\n",
              "      fill: #174EA6;\n",
              "    }\n",
              "\n",
              "    [theme=dark] .colab-df-convert {\n",
              "      background-color: #3B4455;\n",
              "      fill: #D2E3FC;\n",
              "    }\n",
              "\n",
              "    [theme=dark] .colab-df-convert:hover {\n",
              "      background-color: #434B5C;\n",
              "      box-shadow: 0px 1px 3px 1px rgba(0, 0, 0, 0.15);\n",
              "      filter: drop-shadow(0px 1px 2px rgba(0, 0, 0, 0.3));\n",
              "      fill: #FFFFFF;\n",
              "    }\n",
              "  </style>\n",
              "\n",
              "      <script>\n",
              "        const buttonEl =\n",
              "          document.querySelector('#df-2c9a7f9d-1f8a-45ad-a371-9397683494b2 button.colab-df-convert');\n",
              "        buttonEl.style.display =\n",
              "          google.colab.kernel.accessAllowed ? 'block' : 'none';\n",
              "\n",
              "        async function convertToInteractive(key) {\n",
              "          const element = document.querySelector('#df-2c9a7f9d-1f8a-45ad-a371-9397683494b2');\n",
              "          const dataTable =\n",
              "            await google.colab.kernel.invokeFunction('convertToInteractive',\n",
              "                                                     [key], {});\n",
              "          if (!dataTable) return;\n",
              "\n",
              "          const docLinkHtml = 'Like what you see? Visit the ' +\n",
              "            '<a target=\"_blank\" href=https://colab.research.google.com/notebooks/data_table.ipynb>data table notebook</a>'\n",
              "            + ' to learn more about interactive tables.';\n",
              "          element.innerHTML = '';\n",
              "          dataTable['output_type'] = 'display_data';\n",
              "          await google.colab.output.renderOutput(dataTable, element);\n",
              "          const docLink = document.createElement('div');\n",
              "          docLink.innerHTML = docLinkHtml;\n",
              "          element.appendChild(docLink);\n",
              "        }\n",
              "      </script>\n",
              "    </div>\n",
              "  </div>\n",
              "  "
            ],
            "text/plain": [
              "                         name  score\n",
              "0                         knn   0.48\n",
              "0                         svc   0.40\n",
              "0           baggingclassifier   0.48\n",
              "0          adaboostclassifier   0.34\n",
              "0  gradientboostingclassifier   0.46"
            ]
          },
          "metadata": {},
          "execution_count": 360
        }
      ],
      "source": [
        "data = pd.read_csv('vote.csv')\n",
        "to_drop = ['time', 'name', 'first']\n",
        "targets = ['first', 'second', 'third']\n",
        "y = 'first'\n",
        "first_high = train(data, to_drop, y, targets, 0.10, 'high')\n",
        "first_high[3]"
      ]
    },
    {
      "cell_type": "markdown",
      "source": [
        "Predicting if people are **agree to make Grand Nancy much greener** (First question).\n",
        "\n",
        "*   **to_drop**: Time, Name and First.\n",
        "*   **target**: First.\n",
        "*   **all targets**: First, second and third.\n",
        "*   **test_size**: 10%.\n",
        "*   **precision**: Medium.\n",
        "\n",
        "\n"
      ],
      "metadata": {
        "id": "EdVcnFIjeLMs"
      }
    },
    {
      "cell_type": "code",
      "execution_count": 361,
      "metadata": {
        "colab": {
          "base_uri": "https://localhost:8080/",
          "height": 487
        },
        "id": "PKGilPfkeLMt",
        "outputId": "68a0258d-eba9-41eb-fd8f-35692ef82338"
      },
      "outputs": [
        {
          "output_type": "stream",
          "name": "stdout",
          "text": [
            "----------------------  Training model  ----------------------\n",
            "Import parameters                                 \u001b[92m Successfuly \u001b[0m\n",
            "Reducing targets with precision=medium            \u001b[92m Successfuly \u001b[0m\n",
            "Seperating train and test data with test_size=0.1 \u001b[92m Successfuly \u001b[0m\n",
            "Getting numerical and categorical features        \u001b[92m Successfuly \u001b[0m\n",
            "Creating numerical and categorical transformer    \u001b[92m Successfuly \u001b[0m\n",
            "Assembling transformers                           \u001b[92m Successfuly \u001b[0m\n",
            "Params: [{'knn__n_neighbors': array([ 1,  2,  3,  4,  5,  6,  7,  8,  9, 10, 11, 12, 13, 14, 15, 16, 17,\n",
            "       18, 19, 20, 21, 22, 23, 24, 25, 26, 27, 28, 29]), 'knn__p': [1, 2]}, {'svc__kernel': ['rbf', 'linear', 'poly', 'sigmoid'], 'svc__gamma': [0.001], 'svc__C': [1, 10, 100]}, {'baggingclassifier__base_estimator': [KNeighborsClassifier(), SVC()], 'baggingclassifier__n_estimators': [25, 50, 100]}, {'adaboostclassifier__n_estimators': [25, 50, 100]}, {'gradientboostingclassifier__n_estimators': [25, 50, 100]}]\n",
            "Fitting knn                                       \u001b[92m Successfuly \u001b[0m\n",
            "Fitting svc                                       \u001b[92m Successfuly \u001b[0m\n",
            "Fitting baggingclassifier                         \u001b[92m Successfuly \u001b[0m\n",
            "Fitting adaboostclassifier                        \u001b[92m Successfuly \u001b[0m\n",
            "Fitting gradientboostingclassifier                \u001b[92m Successfuly \u001b[0m\n",
            "--------------  All models have been trained!  --------------\n"
          ]
        },
        {
          "output_type": "execute_result",
          "data": {
            "text/html": [
              "\n",
              "  <div id=\"df-5826ceec-13a9-47ea-831a-c93e1b2c18e0\">\n",
              "    <div class=\"colab-df-container\">\n",
              "      <div>\n",
              "<style scoped>\n",
              "    .dataframe tbody tr th:only-of-type {\n",
              "        vertical-align: middle;\n",
              "    }\n",
              "\n",
              "    .dataframe tbody tr th {\n",
              "        vertical-align: top;\n",
              "    }\n",
              "\n",
              "    .dataframe thead th {\n",
              "        text-align: right;\n",
              "    }\n",
              "</style>\n",
              "<table border=\"1\" class=\"dataframe\">\n",
              "  <thead>\n",
              "    <tr style=\"text-align: right;\">\n",
              "      <th></th>\n",
              "      <th>name</th>\n",
              "      <th>score</th>\n",
              "    </tr>\n",
              "  </thead>\n",
              "  <tbody>\n",
              "    <tr>\n",
              "      <th>0</th>\n",
              "      <td>knn</td>\n",
              "      <td>0.68</td>\n",
              "    </tr>\n",
              "    <tr>\n",
              "      <th>0</th>\n",
              "      <td>svc</td>\n",
              "      <td>0.60</td>\n",
              "    </tr>\n",
              "    <tr>\n",
              "      <th>0</th>\n",
              "      <td>baggingclassifier</td>\n",
              "      <td>0.68</td>\n",
              "    </tr>\n",
              "    <tr>\n",
              "      <th>0</th>\n",
              "      <td>adaboostclassifier</td>\n",
              "      <td>0.68</td>\n",
              "    </tr>\n",
              "    <tr>\n",
              "      <th>0</th>\n",
              "      <td>gradientboostingclassifier</td>\n",
              "      <td>0.64</td>\n",
              "    </tr>\n",
              "  </tbody>\n",
              "</table>\n",
              "</div>\n",
              "      <button class=\"colab-df-convert\" onclick=\"convertToInteractive('df-5826ceec-13a9-47ea-831a-c93e1b2c18e0')\"\n",
              "              title=\"Convert this dataframe to an interactive table.\"\n",
              "              style=\"display:none;\">\n",
              "        \n",
              "  <svg xmlns=\"http://www.w3.org/2000/svg\" height=\"24px\"viewBox=\"0 0 24 24\"\n",
              "       width=\"24px\">\n",
              "    <path d=\"M0 0h24v24H0V0z\" fill=\"none\"/>\n",
              "    <path d=\"M18.56 5.44l.94 2.06.94-2.06 2.06-.94-2.06-.94-.94-2.06-.94 2.06-2.06.94zm-11 1L8.5 8.5l.94-2.06 2.06-.94-2.06-.94L8.5 2.5l-.94 2.06-2.06.94zm10 10l.94 2.06.94-2.06 2.06-.94-2.06-.94-.94-2.06-.94 2.06-2.06.94z\"/><path d=\"M17.41 7.96l-1.37-1.37c-.4-.4-.92-.59-1.43-.59-.52 0-1.04.2-1.43.59L10.3 9.45l-7.72 7.72c-.78.78-.78 2.05 0 2.83L4 21.41c.39.39.9.59 1.41.59.51 0 1.02-.2 1.41-.59l7.78-7.78 2.81-2.81c.8-.78.8-2.07 0-2.86zM5.41 20L4 18.59l7.72-7.72 1.47 1.35L5.41 20z\"/>\n",
              "  </svg>\n",
              "      </button>\n",
              "      \n",
              "  <style>\n",
              "    .colab-df-container {\n",
              "      display:flex;\n",
              "      flex-wrap:wrap;\n",
              "      gap: 12px;\n",
              "    }\n",
              "\n",
              "    .colab-df-convert {\n",
              "      background-color: #E8F0FE;\n",
              "      border: none;\n",
              "      border-radius: 50%;\n",
              "      cursor: pointer;\n",
              "      display: none;\n",
              "      fill: #1967D2;\n",
              "      height: 32px;\n",
              "      padding: 0 0 0 0;\n",
              "      width: 32px;\n",
              "    }\n",
              "\n",
              "    .colab-df-convert:hover {\n",
              "      background-color: #E2EBFA;\n",
              "      box-shadow: 0px 1px 2px rgba(60, 64, 67, 0.3), 0px 1px 3px 1px rgba(60, 64, 67, 0.15);\n",
              "      fill: #174EA6;\n",
              "    }\n",
              "\n",
              "    [theme=dark] .colab-df-convert {\n",
              "      background-color: #3B4455;\n",
              "      fill: #D2E3FC;\n",
              "    }\n",
              "\n",
              "    [theme=dark] .colab-df-convert:hover {\n",
              "      background-color: #434B5C;\n",
              "      box-shadow: 0px 1px 3px 1px rgba(0, 0, 0, 0.15);\n",
              "      filter: drop-shadow(0px 1px 2px rgba(0, 0, 0, 0.3));\n",
              "      fill: #FFFFFF;\n",
              "    }\n",
              "  </style>\n",
              "\n",
              "      <script>\n",
              "        const buttonEl =\n",
              "          document.querySelector('#df-5826ceec-13a9-47ea-831a-c93e1b2c18e0 button.colab-df-convert');\n",
              "        buttonEl.style.display =\n",
              "          google.colab.kernel.accessAllowed ? 'block' : 'none';\n",
              "\n",
              "        async function convertToInteractive(key) {\n",
              "          const element = document.querySelector('#df-5826ceec-13a9-47ea-831a-c93e1b2c18e0');\n",
              "          const dataTable =\n",
              "            await google.colab.kernel.invokeFunction('convertToInteractive',\n",
              "                                                     [key], {});\n",
              "          if (!dataTable) return;\n",
              "\n",
              "          const docLinkHtml = 'Like what you see? Visit the ' +\n",
              "            '<a target=\"_blank\" href=https://colab.research.google.com/notebooks/data_table.ipynb>data table notebook</a>'\n",
              "            + ' to learn more about interactive tables.';\n",
              "          element.innerHTML = '';\n",
              "          dataTable['output_type'] = 'display_data';\n",
              "          await google.colab.output.renderOutput(dataTable, element);\n",
              "          const docLink = document.createElement('div');\n",
              "          docLink.innerHTML = docLinkHtml;\n",
              "          element.appendChild(docLink);\n",
              "        }\n",
              "      </script>\n",
              "    </div>\n",
              "  </div>\n",
              "  "
            ],
            "text/plain": [
              "                         name  score\n",
              "0                         knn   0.68\n",
              "0                         svc   0.60\n",
              "0           baggingclassifier   0.68\n",
              "0          adaboostclassifier   0.68\n",
              "0  gradientboostingclassifier   0.64"
            ]
          },
          "metadata": {},
          "execution_count": 361
        }
      ],
      "source": [
        "data = pd.read_csv('vote.csv')\n",
        "to_drop = ['time', 'name', 'first']\n",
        "targets = ['first', 'second', 'third']\n",
        "y = 'first'\n",
        "first_medium = train(data, to_drop, y, targets, 0.10, 'medium')\n",
        "first_medium[3]"
      ]
    },
    {
      "cell_type": "markdown",
      "source": [
        "Predicting if people are **agree to make Grand Nancy much greener** (First question).\n",
        "\n",
        "*   **to_drop**: Time, Name and First.\n",
        "*   **target**: First.\n",
        "*   **all targets**: First, second and third.\n",
        "*   **test_size**: 10%.\n",
        "*   **precision**: Low.\n",
        "\n",
        "\n",
        "---\n",
        "\n",
        "\n",
        "\n"
      ],
      "metadata": {
        "id": "e3c6XUtLeg3R"
      }
    },
    {
      "cell_type": "code",
      "execution_count": 362,
      "metadata": {
        "colab": {
          "base_uri": "https://localhost:8080/",
          "height": 487
        },
        "id": "oqakbWW6eg3R",
        "outputId": "6ae596c5-cb92-4def-c7f9-b2e0d27a02b3"
      },
      "outputs": [
        {
          "output_type": "stream",
          "name": "stdout",
          "text": [
            "----------------------  Training model  ----------------------\n",
            "Import parameters                                 \u001b[92m Successfuly \u001b[0m\n",
            "Reducing targets with precision=low               \u001b[92m Successfuly \u001b[0m\n",
            "Seperating train and test data with test_size=0.1 \u001b[92m Successfuly \u001b[0m\n",
            "Getting numerical and categorical features        \u001b[92m Successfuly \u001b[0m\n",
            "Creating numerical and categorical transformer    \u001b[92m Successfuly \u001b[0m\n",
            "Assembling transformers                           \u001b[92m Successfuly \u001b[0m\n",
            "Params: [{'knn__n_neighbors': array([ 1,  2,  3,  4,  5,  6,  7,  8,  9, 10, 11, 12, 13, 14, 15, 16, 17,\n",
            "       18, 19, 20, 21, 22, 23, 24, 25, 26, 27, 28, 29]), 'knn__p': [1, 2]}, {'svc__kernel': ['rbf', 'linear', 'poly', 'sigmoid'], 'svc__gamma': [0.001], 'svc__C': [1, 10, 100]}, {'baggingclassifier__base_estimator': [KNeighborsClassifier(), SVC()], 'baggingclassifier__n_estimators': [25, 50, 100]}, {'adaboostclassifier__n_estimators': [25, 50, 100]}, {'gradientboostingclassifier__n_estimators': [25, 50, 100]}]\n",
            "Fitting knn                                       \u001b[92m Successfuly \u001b[0m\n",
            "Fitting svc                                       \u001b[92m Successfuly \u001b[0m\n",
            "Fitting baggingclassifier                         \u001b[92m Successfuly \u001b[0m\n",
            "Fitting adaboostclassifier                        \u001b[92m Successfuly \u001b[0m\n",
            "Fitting gradientboostingclassifier                \u001b[92m Successfuly \u001b[0m\n",
            "--------------  All models have been trained!  --------------\n"
          ]
        },
        {
          "output_type": "execute_result",
          "data": {
            "text/html": [
              "\n",
              "  <div id=\"df-7ec1ffbe-6966-446b-a836-3f72a1a8bfad\">\n",
              "    <div class=\"colab-df-container\">\n",
              "      <div>\n",
              "<style scoped>\n",
              "    .dataframe tbody tr th:only-of-type {\n",
              "        vertical-align: middle;\n",
              "    }\n",
              "\n",
              "    .dataframe tbody tr th {\n",
              "        vertical-align: top;\n",
              "    }\n",
              "\n",
              "    .dataframe thead th {\n",
              "        text-align: right;\n",
              "    }\n",
              "</style>\n",
              "<table border=\"1\" class=\"dataframe\">\n",
              "  <thead>\n",
              "    <tr style=\"text-align: right;\">\n",
              "      <th></th>\n",
              "      <th>name</th>\n",
              "      <th>score</th>\n",
              "    </tr>\n",
              "  </thead>\n",
              "  <tbody>\n",
              "    <tr>\n",
              "      <th>0</th>\n",
              "      <td>knn</td>\n",
              "      <td>0.86</td>\n",
              "    </tr>\n",
              "    <tr>\n",
              "      <th>0</th>\n",
              "      <td>svc</td>\n",
              "      <td>0.86</td>\n",
              "    </tr>\n",
              "    <tr>\n",
              "      <th>0</th>\n",
              "      <td>baggingclassifier</td>\n",
              "      <td>0.86</td>\n",
              "    </tr>\n",
              "    <tr>\n",
              "      <th>0</th>\n",
              "      <td>adaboostclassifier</td>\n",
              "      <td>0.84</td>\n",
              "    </tr>\n",
              "    <tr>\n",
              "      <th>0</th>\n",
              "      <td>gradientboostingclassifier</td>\n",
              "      <td>0.86</td>\n",
              "    </tr>\n",
              "  </tbody>\n",
              "</table>\n",
              "</div>\n",
              "      <button class=\"colab-df-convert\" onclick=\"convertToInteractive('df-7ec1ffbe-6966-446b-a836-3f72a1a8bfad')\"\n",
              "              title=\"Convert this dataframe to an interactive table.\"\n",
              "              style=\"display:none;\">\n",
              "        \n",
              "  <svg xmlns=\"http://www.w3.org/2000/svg\" height=\"24px\"viewBox=\"0 0 24 24\"\n",
              "       width=\"24px\">\n",
              "    <path d=\"M0 0h24v24H0V0z\" fill=\"none\"/>\n",
              "    <path d=\"M18.56 5.44l.94 2.06.94-2.06 2.06-.94-2.06-.94-.94-2.06-.94 2.06-2.06.94zm-11 1L8.5 8.5l.94-2.06 2.06-.94-2.06-.94L8.5 2.5l-.94 2.06-2.06.94zm10 10l.94 2.06.94-2.06 2.06-.94-2.06-.94-.94-2.06-.94 2.06-2.06.94z\"/><path d=\"M17.41 7.96l-1.37-1.37c-.4-.4-.92-.59-1.43-.59-.52 0-1.04.2-1.43.59L10.3 9.45l-7.72 7.72c-.78.78-.78 2.05 0 2.83L4 21.41c.39.39.9.59 1.41.59.51 0 1.02-.2 1.41-.59l7.78-7.78 2.81-2.81c.8-.78.8-2.07 0-2.86zM5.41 20L4 18.59l7.72-7.72 1.47 1.35L5.41 20z\"/>\n",
              "  </svg>\n",
              "      </button>\n",
              "      \n",
              "  <style>\n",
              "    .colab-df-container {\n",
              "      display:flex;\n",
              "      flex-wrap:wrap;\n",
              "      gap: 12px;\n",
              "    }\n",
              "\n",
              "    .colab-df-convert {\n",
              "      background-color: #E8F0FE;\n",
              "      border: none;\n",
              "      border-radius: 50%;\n",
              "      cursor: pointer;\n",
              "      display: none;\n",
              "      fill: #1967D2;\n",
              "      height: 32px;\n",
              "      padding: 0 0 0 0;\n",
              "      width: 32px;\n",
              "    }\n",
              "\n",
              "    .colab-df-convert:hover {\n",
              "      background-color: #E2EBFA;\n",
              "      box-shadow: 0px 1px 2px rgba(60, 64, 67, 0.3), 0px 1px 3px 1px rgba(60, 64, 67, 0.15);\n",
              "      fill: #174EA6;\n",
              "    }\n",
              "\n",
              "    [theme=dark] .colab-df-convert {\n",
              "      background-color: #3B4455;\n",
              "      fill: #D2E3FC;\n",
              "    }\n",
              "\n",
              "    [theme=dark] .colab-df-convert:hover {\n",
              "      background-color: #434B5C;\n",
              "      box-shadow: 0px 1px 3px 1px rgba(0, 0, 0, 0.15);\n",
              "      filter: drop-shadow(0px 1px 2px rgba(0, 0, 0, 0.3));\n",
              "      fill: #FFFFFF;\n",
              "    }\n",
              "  </style>\n",
              "\n",
              "      <script>\n",
              "        const buttonEl =\n",
              "          document.querySelector('#df-7ec1ffbe-6966-446b-a836-3f72a1a8bfad button.colab-df-convert');\n",
              "        buttonEl.style.display =\n",
              "          google.colab.kernel.accessAllowed ? 'block' : 'none';\n",
              "\n",
              "        async function convertToInteractive(key) {\n",
              "          const element = document.querySelector('#df-7ec1ffbe-6966-446b-a836-3f72a1a8bfad');\n",
              "          const dataTable =\n",
              "            await google.colab.kernel.invokeFunction('convertToInteractive',\n",
              "                                                     [key], {});\n",
              "          if (!dataTable) return;\n",
              "\n",
              "          const docLinkHtml = 'Like what you see? Visit the ' +\n",
              "            '<a target=\"_blank\" href=https://colab.research.google.com/notebooks/data_table.ipynb>data table notebook</a>'\n",
              "            + ' to learn more about interactive tables.';\n",
              "          element.innerHTML = '';\n",
              "          dataTable['output_type'] = 'display_data';\n",
              "          await google.colab.output.renderOutput(dataTable, element);\n",
              "          const docLink = document.createElement('div');\n",
              "          docLink.innerHTML = docLinkHtml;\n",
              "          element.appendChild(docLink);\n",
              "        }\n",
              "      </script>\n",
              "    </div>\n",
              "  </div>\n",
              "  "
            ],
            "text/plain": [
              "                         name  score\n",
              "0                         knn   0.86\n",
              "0                         svc   0.86\n",
              "0           baggingclassifier   0.86\n",
              "0          adaboostclassifier   0.84\n",
              "0  gradientboostingclassifier   0.86"
            ]
          },
          "metadata": {},
          "execution_count": 362
        }
      ],
      "source": [
        "data = pd.read_csv('vote.csv')\n",
        "to_drop = ['time', 'name', 'first']\n",
        "targets = ['first', 'second', 'third']\n",
        "y = 'first'\n",
        "first_low = train(data, to_drop, y, targets, 0.10, 'low')\n",
        "first_low[3]"
      ]
    },
    {
      "cell_type": "markdown",
      "source": [
        "## Second"
      ],
      "metadata": {
        "id": "t7MES4cKexiq"
      }
    },
    {
      "cell_type": "markdown",
      "source": [
        "Predicting if people are **agree that Nancy is completely pedestrianized** (Second question).\n",
        "\n",
        "*   **to_drop**: Time, Name and Second.\n",
        "*   **target**: Second.\n",
        "*   **all targets**: First, second and third.\n",
        "*   **test_size**: 10%.\n",
        "*   **precision**: High.\n",
        "\n",
        "\n"
      ],
      "metadata": {
        "id": "iBmUnF4be57f"
      }
    },
    {
      "cell_type": "code",
      "execution_count": 363,
      "metadata": {
        "colab": {
          "base_uri": "https://localhost:8080/",
          "height": 487
        },
        "id": "KBd4ATjWe57f",
        "outputId": "d6c0b162-f900-4bae-babf-3ac564588611"
      },
      "outputs": [
        {
          "output_type": "stream",
          "name": "stdout",
          "text": [
            "----------------------  Training model  ----------------------\n",
            "Import parameters                                 \u001b[92m Successfuly \u001b[0m\n",
            "Reducing targets with precision=high              \u001b[92m Successfuly \u001b[0m\n",
            "Seperating train and test data with test_size=0.1 \u001b[92m Successfuly \u001b[0m\n",
            "Getting numerical and categorical features        \u001b[92m Successfuly \u001b[0m\n",
            "Creating numerical and categorical transformer    \u001b[92m Successfuly \u001b[0m\n",
            "Assembling transformers                           \u001b[92m Successfuly \u001b[0m\n",
            "Params: [{'knn__n_neighbors': array([ 1,  2,  3,  4,  5,  6,  7,  8,  9, 10, 11, 12, 13, 14, 15, 16, 17,\n",
            "       18, 19, 20, 21, 22, 23, 24, 25, 26, 27, 28, 29]), 'knn__p': [1, 2]}, {'svc__kernel': ['rbf', 'linear', 'poly', 'sigmoid'], 'svc__gamma': [0.001], 'svc__C': [1, 10, 100]}, {'baggingclassifier__base_estimator': [KNeighborsClassifier(), SVC()], 'baggingclassifier__n_estimators': [25, 50, 100]}, {'adaboostclassifier__n_estimators': [25, 50, 100]}, {'gradientboostingclassifier__n_estimators': [25, 50, 100]}]\n",
            "Fitting knn                                       \u001b[92m Successfuly \u001b[0m\n",
            "Fitting svc                                       \u001b[92m Successfuly \u001b[0m\n",
            "Fitting baggingclassifier                         \u001b[92m Successfuly \u001b[0m\n",
            "Fitting adaboostclassifier                        \u001b[92m Successfuly \u001b[0m\n",
            "Fitting gradientboostingclassifier                \u001b[92m Successfuly \u001b[0m\n",
            "--------------  All models have been trained!  --------------\n"
          ]
        },
        {
          "output_type": "execute_result",
          "data": {
            "text/html": [
              "\n",
              "  <div id=\"df-112e18af-6bb3-437b-8614-b13f877a6f71\">\n",
              "    <div class=\"colab-df-container\">\n",
              "      <div>\n",
              "<style scoped>\n",
              "    .dataframe tbody tr th:only-of-type {\n",
              "        vertical-align: middle;\n",
              "    }\n",
              "\n",
              "    .dataframe tbody tr th {\n",
              "        vertical-align: top;\n",
              "    }\n",
              "\n",
              "    .dataframe thead th {\n",
              "        text-align: right;\n",
              "    }\n",
              "</style>\n",
              "<table border=\"1\" class=\"dataframe\">\n",
              "  <thead>\n",
              "    <tr style=\"text-align: right;\">\n",
              "      <th></th>\n",
              "      <th>name</th>\n",
              "      <th>score</th>\n",
              "    </tr>\n",
              "  </thead>\n",
              "  <tbody>\n",
              "    <tr>\n",
              "      <th>0</th>\n",
              "      <td>knn</td>\n",
              "      <td>0.32</td>\n",
              "    </tr>\n",
              "    <tr>\n",
              "      <th>0</th>\n",
              "      <td>svc</td>\n",
              "      <td>0.30</td>\n",
              "    </tr>\n",
              "    <tr>\n",
              "      <th>0</th>\n",
              "      <td>baggingclassifier</td>\n",
              "      <td>0.32</td>\n",
              "    </tr>\n",
              "    <tr>\n",
              "      <th>0</th>\n",
              "      <td>adaboostclassifier</td>\n",
              "      <td>0.28</td>\n",
              "    </tr>\n",
              "    <tr>\n",
              "      <th>0</th>\n",
              "      <td>gradientboostingclassifier</td>\n",
              "      <td>0.30</td>\n",
              "    </tr>\n",
              "  </tbody>\n",
              "</table>\n",
              "</div>\n",
              "      <button class=\"colab-df-convert\" onclick=\"convertToInteractive('df-112e18af-6bb3-437b-8614-b13f877a6f71')\"\n",
              "              title=\"Convert this dataframe to an interactive table.\"\n",
              "              style=\"display:none;\">\n",
              "        \n",
              "  <svg xmlns=\"http://www.w3.org/2000/svg\" height=\"24px\"viewBox=\"0 0 24 24\"\n",
              "       width=\"24px\">\n",
              "    <path d=\"M0 0h24v24H0V0z\" fill=\"none\"/>\n",
              "    <path d=\"M18.56 5.44l.94 2.06.94-2.06 2.06-.94-2.06-.94-.94-2.06-.94 2.06-2.06.94zm-11 1L8.5 8.5l.94-2.06 2.06-.94-2.06-.94L8.5 2.5l-.94 2.06-2.06.94zm10 10l.94 2.06.94-2.06 2.06-.94-2.06-.94-.94-2.06-.94 2.06-2.06.94z\"/><path d=\"M17.41 7.96l-1.37-1.37c-.4-.4-.92-.59-1.43-.59-.52 0-1.04.2-1.43.59L10.3 9.45l-7.72 7.72c-.78.78-.78 2.05 0 2.83L4 21.41c.39.39.9.59 1.41.59.51 0 1.02-.2 1.41-.59l7.78-7.78 2.81-2.81c.8-.78.8-2.07 0-2.86zM5.41 20L4 18.59l7.72-7.72 1.47 1.35L5.41 20z\"/>\n",
              "  </svg>\n",
              "      </button>\n",
              "      \n",
              "  <style>\n",
              "    .colab-df-container {\n",
              "      display:flex;\n",
              "      flex-wrap:wrap;\n",
              "      gap: 12px;\n",
              "    }\n",
              "\n",
              "    .colab-df-convert {\n",
              "      background-color: #E8F0FE;\n",
              "      border: none;\n",
              "      border-radius: 50%;\n",
              "      cursor: pointer;\n",
              "      display: none;\n",
              "      fill: #1967D2;\n",
              "      height: 32px;\n",
              "      padding: 0 0 0 0;\n",
              "      width: 32px;\n",
              "    }\n",
              "\n",
              "    .colab-df-convert:hover {\n",
              "      background-color: #E2EBFA;\n",
              "      box-shadow: 0px 1px 2px rgba(60, 64, 67, 0.3), 0px 1px 3px 1px rgba(60, 64, 67, 0.15);\n",
              "      fill: #174EA6;\n",
              "    }\n",
              "\n",
              "    [theme=dark] .colab-df-convert {\n",
              "      background-color: #3B4455;\n",
              "      fill: #D2E3FC;\n",
              "    }\n",
              "\n",
              "    [theme=dark] .colab-df-convert:hover {\n",
              "      background-color: #434B5C;\n",
              "      box-shadow: 0px 1px 3px 1px rgba(0, 0, 0, 0.15);\n",
              "      filter: drop-shadow(0px 1px 2px rgba(0, 0, 0, 0.3));\n",
              "      fill: #FFFFFF;\n",
              "    }\n",
              "  </style>\n",
              "\n",
              "      <script>\n",
              "        const buttonEl =\n",
              "          document.querySelector('#df-112e18af-6bb3-437b-8614-b13f877a6f71 button.colab-df-convert');\n",
              "        buttonEl.style.display =\n",
              "          google.colab.kernel.accessAllowed ? 'block' : 'none';\n",
              "\n",
              "        async function convertToInteractive(key) {\n",
              "          const element = document.querySelector('#df-112e18af-6bb3-437b-8614-b13f877a6f71');\n",
              "          const dataTable =\n",
              "            await google.colab.kernel.invokeFunction('convertToInteractive',\n",
              "                                                     [key], {});\n",
              "          if (!dataTable) return;\n",
              "\n",
              "          const docLinkHtml = 'Like what you see? Visit the ' +\n",
              "            '<a target=\"_blank\" href=https://colab.research.google.com/notebooks/data_table.ipynb>data table notebook</a>'\n",
              "            + ' to learn more about interactive tables.';\n",
              "          element.innerHTML = '';\n",
              "          dataTable['output_type'] = 'display_data';\n",
              "          await google.colab.output.renderOutput(dataTable, element);\n",
              "          const docLink = document.createElement('div');\n",
              "          docLink.innerHTML = docLinkHtml;\n",
              "          element.appendChild(docLink);\n",
              "        }\n",
              "      </script>\n",
              "    </div>\n",
              "  </div>\n",
              "  "
            ],
            "text/plain": [
              "                         name  score\n",
              "0                         knn   0.32\n",
              "0                         svc   0.30\n",
              "0           baggingclassifier   0.32\n",
              "0          adaboostclassifier   0.28\n",
              "0  gradientboostingclassifier   0.30"
            ]
          },
          "metadata": {},
          "execution_count": 363
        }
      ],
      "source": [
        "data = pd.read_csv('vote.csv')\n",
        "to_drop = ['time', 'name', 'second']\n",
        "targets = ['first', 'second', 'third']\n",
        "y = 'second'\n",
        "second_high = train(data, to_drop, y, targets, 0.10, 'high')\n",
        "second_high[3]"
      ]
    },
    {
      "cell_type": "markdown",
      "source": [
        "Predicting if people are **agree that Nancy is completely pedestrianized** (Second question).\n",
        "\n",
        "*   **to_drop**: Time, Name and Second.\n",
        "*   **target**: Second.\n",
        "*   **all targets**: First, second and third.\n",
        "*   **test_size**: 10%.\n",
        "*   **precision**: Medium.\n",
        "\n",
        "\n"
      ],
      "metadata": {
        "id": "rDHQJvCZe57g"
      }
    },
    {
      "cell_type": "code",
      "execution_count": 364,
      "metadata": {
        "colab": {
          "base_uri": "https://localhost:8080/",
          "height": 487
        },
        "id": "XJJlbZDre57g",
        "outputId": "80630594-9a47-45b7-d124-818ab51a1294"
      },
      "outputs": [
        {
          "output_type": "stream",
          "name": "stdout",
          "text": [
            "----------------------  Training model  ----------------------\n",
            "Import parameters                                 \u001b[92m Successfuly \u001b[0m\n",
            "Reducing targets with precision=medium            \u001b[92m Successfuly \u001b[0m\n",
            "Seperating train and test data with test_size=0.1 \u001b[92m Successfuly \u001b[0m\n",
            "Getting numerical and categorical features        \u001b[92m Successfuly \u001b[0m\n",
            "Creating numerical and categorical transformer    \u001b[92m Successfuly \u001b[0m\n",
            "Assembling transformers                           \u001b[92m Successfuly \u001b[0m\n",
            "Params: [{'knn__n_neighbors': array([ 1,  2,  3,  4,  5,  6,  7,  8,  9, 10, 11, 12, 13, 14, 15, 16, 17,\n",
            "       18, 19, 20, 21, 22, 23, 24, 25, 26, 27, 28, 29]), 'knn__p': [1, 2]}, {'svc__kernel': ['rbf', 'linear', 'poly', 'sigmoid'], 'svc__gamma': [0.001], 'svc__C': [1, 10, 100]}, {'baggingclassifier__base_estimator': [KNeighborsClassifier(), SVC()], 'baggingclassifier__n_estimators': [25, 50, 100]}, {'adaboostclassifier__n_estimators': [25, 50, 100]}, {'gradientboostingclassifier__n_estimators': [25, 50, 100]}]\n",
            "Fitting knn                                       \u001b[92m Successfuly \u001b[0m\n",
            "Fitting svc                                       \u001b[92m Successfuly \u001b[0m\n",
            "Fitting baggingclassifier                         \u001b[92m Successfuly \u001b[0m\n",
            "Fitting adaboostclassifier                        \u001b[92m Successfuly \u001b[0m\n",
            "Fitting gradientboostingclassifier                \u001b[92m Successfuly \u001b[0m\n",
            "--------------  All models have been trained!  --------------\n"
          ]
        },
        {
          "output_type": "execute_result",
          "data": {
            "text/html": [
              "\n",
              "  <div id=\"df-d82f1856-e2b7-496c-bf20-a2e0d671a86e\">\n",
              "    <div class=\"colab-df-container\">\n",
              "      <div>\n",
              "<style scoped>\n",
              "    .dataframe tbody tr th:only-of-type {\n",
              "        vertical-align: middle;\n",
              "    }\n",
              "\n",
              "    .dataframe tbody tr th {\n",
              "        vertical-align: top;\n",
              "    }\n",
              "\n",
              "    .dataframe thead th {\n",
              "        text-align: right;\n",
              "    }\n",
              "</style>\n",
              "<table border=\"1\" class=\"dataframe\">\n",
              "  <thead>\n",
              "    <tr style=\"text-align: right;\">\n",
              "      <th></th>\n",
              "      <th>name</th>\n",
              "      <th>score</th>\n",
              "    </tr>\n",
              "  </thead>\n",
              "  <tbody>\n",
              "    <tr>\n",
              "      <th>0</th>\n",
              "      <td>knn</td>\n",
              "      <td>0.64</td>\n",
              "    </tr>\n",
              "    <tr>\n",
              "      <th>0</th>\n",
              "      <td>svc</td>\n",
              "      <td>0.50</td>\n",
              "    </tr>\n",
              "    <tr>\n",
              "      <th>0</th>\n",
              "      <td>baggingclassifier</td>\n",
              "      <td>0.52</td>\n",
              "    </tr>\n",
              "    <tr>\n",
              "      <th>0</th>\n",
              "      <td>adaboostclassifier</td>\n",
              "      <td>0.52</td>\n",
              "    </tr>\n",
              "    <tr>\n",
              "      <th>0</th>\n",
              "      <td>gradientboostingclassifier</td>\n",
              "      <td>0.50</td>\n",
              "    </tr>\n",
              "  </tbody>\n",
              "</table>\n",
              "</div>\n",
              "      <button class=\"colab-df-convert\" onclick=\"convertToInteractive('df-d82f1856-e2b7-496c-bf20-a2e0d671a86e')\"\n",
              "              title=\"Convert this dataframe to an interactive table.\"\n",
              "              style=\"display:none;\">\n",
              "        \n",
              "  <svg xmlns=\"http://www.w3.org/2000/svg\" height=\"24px\"viewBox=\"0 0 24 24\"\n",
              "       width=\"24px\">\n",
              "    <path d=\"M0 0h24v24H0V0z\" fill=\"none\"/>\n",
              "    <path d=\"M18.56 5.44l.94 2.06.94-2.06 2.06-.94-2.06-.94-.94-2.06-.94 2.06-2.06.94zm-11 1L8.5 8.5l.94-2.06 2.06-.94-2.06-.94L8.5 2.5l-.94 2.06-2.06.94zm10 10l.94 2.06.94-2.06 2.06-.94-2.06-.94-.94-2.06-.94 2.06-2.06.94z\"/><path d=\"M17.41 7.96l-1.37-1.37c-.4-.4-.92-.59-1.43-.59-.52 0-1.04.2-1.43.59L10.3 9.45l-7.72 7.72c-.78.78-.78 2.05 0 2.83L4 21.41c.39.39.9.59 1.41.59.51 0 1.02-.2 1.41-.59l7.78-7.78 2.81-2.81c.8-.78.8-2.07 0-2.86zM5.41 20L4 18.59l7.72-7.72 1.47 1.35L5.41 20z\"/>\n",
              "  </svg>\n",
              "      </button>\n",
              "      \n",
              "  <style>\n",
              "    .colab-df-container {\n",
              "      display:flex;\n",
              "      flex-wrap:wrap;\n",
              "      gap: 12px;\n",
              "    }\n",
              "\n",
              "    .colab-df-convert {\n",
              "      background-color: #E8F0FE;\n",
              "      border: none;\n",
              "      border-radius: 50%;\n",
              "      cursor: pointer;\n",
              "      display: none;\n",
              "      fill: #1967D2;\n",
              "      height: 32px;\n",
              "      padding: 0 0 0 0;\n",
              "      width: 32px;\n",
              "    }\n",
              "\n",
              "    .colab-df-convert:hover {\n",
              "      background-color: #E2EBFA;\n",
              "      box-shadow: 0px 1px 2px rgba(60, 64, 67, 0.3), 0px 1px 3px 1px rgba(60, 64, 67, 0.15);\n",
              "      fill: #174EA6;\n",
              "    }\n",
              "\n",
              "    [theme=dark] .colab-df-convert {\n",
              "      background-color: #3B4455;\n",
              "      fill: #D2E3FC;\n",
              "    }\n",
              "\n",
              "    [theme=dark] .colab-df-convert:hover {\n",
              "      background-color: #434B5C;\n",
              "      box-shadow: 0px 1px 3px 1px rgba(0, 0, 0, 0.15);\n",
              "      filter: drop-shadow(0px 1px 2px rgba(0, 0, 0, 0.3));\n",
              "      fill: #FFFFFF;\n",
              "    }\n",
              "  </style>\n",
              "\n",
              "      <script>\n",
              "        const buttonEl =\n",
              "          document.querySelector('#df-d82f1856-e2b7-496c-bf20-a2e0d671a86e button.colab-df-convert');\n",
              "        buttonEl.style.display =\n",
              "          google.colab.kernel.accessAllowed ? 'block' : 'none';\n",
              "\n",
              "        async function convertToInteractive(key) {\n",
              "          const element = document.querySelector('#df-d82f1856-e2b7-496c-bf20-a2e0d671a86e');\n",
              "          const dataTable =\n",
              "            await google.colab.kernel.invokeFunction('convertToInteractive',\n",
              "                                                     [key], {});\n",
              "          if (!dataTable) return;\n",
              "\n",
              "          const docLinkHtml = 'Like what you see? Visit the ' +\n",
              "            '<a target=\"_blank\" href=https://colab.research.google.com/notebooks/data_table.ipynb>data table notebook</a>'\n",
              "            + ' to learn more about interactive tables.';\n",
              "          element.innerHTML = '';\n",
              "          dataTable['output_type'] = 'display_data';\n",
              "          await google.colab.output.renderOutput(dataTable, element);\n",
              "          const docLink = document.createElement('div');\n",
              "          docLink.innerHTML = docLinkHtml;\n",
              "          element.appendChild(docLink);\n",
              "        }\n",
              "      </script>\n",
              "    </div>\n",
              "  </div>\n",
              "  "
            ],
            "text/plain": [
              "                         name  score\n",
              "0                         knn   0.64\n",
              "0                         svc   0.50\n",
              "0           baggingclassifier   0.52\n",
              "0          adaboostclassifier   0.52\n",
              "0  gradientboostingclassifier   0.50"
            ]
          },
          "metadata": {},
          "execution_count": 364
        }
      ],
      "source": [
        "data = pd.read_csv('vote.csv')\n",
        "to_drop = ['time', 'name', 'second']\n",
        "targets = ['first', 'second', 'third']\n",
        "y = 'second'\n",
        "second_medium = train(data, to_drop, y, targets, 0.10, 'medium')\n",
        "second_medium[3]"
      ]
    },
    {
      "cell_type": "markdown",
      "source": [
        "Predicting if people are **agree that Nancy is completely pedestrianized** (Second question).\n",
        "\n",
        "*   **to_drop**: Time, Name and First.\n",
        "*   **target**: First.\n",
        "*   **all targets**: First, second and third.\n",
        "*   **test_size**: 10%.\n",
        "*   **precision**: Low.\n",
        "\n",
        "\n"
      ],
      "metadata": {
        "id": "io3DcRj_e57g"
      }
    },
    {
      "cell_type": "code",
      "execution_count": 365,
      "metadata": {
        "colab": {
          "base_uri": "https://localhost:8080/",
          "height": 487
        },
        "id": "9vB5yTHTe57g",
        "outputId": "342406f8-2da4-4428-a725-f6fa8356e2ff"
      },
      "outputs": [
        {
          "output_type": "stream",
          "name": "stdout",
          "text": [
            "----------------------  Training model  ----------------------\n",
            "Import parameters                                 \u001b[92m Successfuly \u001b[0m\n",
            "Reducing targets with precision=low               \u001b[92m Successfuly \u001b[0m\n",
            "Seperating train and test data with test_size=0.1 \u001b[92m Successfuly \u001b[0m\n",
            "Getting numerical and categorical features        \u001b[92m Successfuly \u001b[0m\n",
            "Creating numerical and categorical transformer    \u001b[92m Successfuly \u001b[0m\n",
            "Assembling transformers                           \u001b[92m Successfuly \u001b[0m\n",
            "Params: [{'knn__n_neighbors': array([ 1,  2,  3,  4,  5,  6,  7,  8,  9, 10, 11, 12, 13, 14, 15, 16, 17,\n",
            "       18, 19, 20, 21, 22, 23, 24, 25, 26, 27, 28, 29]), 'knn__p': [1, 2]}, {'svc__kernel': ['rbf', 'linear', 'poly', 'sigmoid'], 'svc__gamma': [0.001], 'svc__C': [1, 10, 100]}, {'baggingclassifier__base_estimator': [KNeighborsClassifier(), SVC()], 'baggingclassifier__n_estimators': [25, 50, 100]}, {'adaboostclassifier__n_estimators': [25, 50, 100]}, {'gradientboostingclassifier__n_estimators': [25, 50, 100]}]\n",
            "Fitting knn                                       \u001b[92m Successfuly \u001b[0m\n",
            "Fitting svc                                       \u001b[92m Successfuly \u001b[0m\n",
            "Fitting baggingclassifier                         \u001b[92m Successfuly \u001b[0m\n",
            "Fitting adaboostclassifier                        \u001b[92m Successfuly \u001b[0m\n",
            "Fitting gradientboostingclassifier                \u001b[92m Successfuly \u001b[0m\n",
            "--------------  All models have been trained!  --------------\n"
          ]
        },
        {
          "output_type": "execute_result",
          "data": {
            "text/html": [
              "\n",
              "  <div id=\"df-8a1b0f8b-8658-4299-9203-dd0f9b9173e4\">\n",
              "    <div class=\"colab-df-container\">\n",
              "      <div>\n",
              "<style scoped>\n",
              "    .dataframe tbody tr th:only-of-type {\n",
              "        vertical-align: middle;\n",
              "    }\n",
              "\n",
              "    .dataframe tbody tr th {\n",
              "        vertical-align: top;\n",
              "    }\n",
              "\n",
              "    .dataframe thead th {\n",
              "        text-align: right;\n",
              "    }\n",
              "</style>\n",
              "<table border=\"1\" class=\"dataframe\">\n",
              "  <thead>\n",
              "    <tr style=\"text-align: right;\">\n",
              "      <th></th>\n",
              "      <th>name</th>\n",
              "      <th>score</th>\n",
              "    </tr>\n",
              "  </thead>\n",
              "  <tbody>\n",
              "    <tr>\n",
              "      <th>0</th>\n",
              "      <td>knn</td>\n",
              "      <td>0.54</td>\n",
              "    </tr>\n",
              "    <tr>\n",
              "      <th>0</th>\n",
              "      <td>svc</td>\n",
              "      <td>0.60</td>\n",
              "    </tr>\n",
              "    <tr>\n",
              "      <th>0</th>\n",
              "      <td>baggingclassifier</td>\n",
              "      <td>0.60</td>\n",
              "    </tr>\n",
              "    <tr>\n",
              "      <th>0</th>\n",
              "      <td>adaboostclassifier</td>\n",
              "      <td>0.54</td>\n",
              "    </tr>\n",
              "    <tr>\n",
              "      <th>0</th>\n",
              "      <td>gradientboostingclassifier</td>\n",
              "      <td>0.56</td>\n",
              "    </tr>\n",
              "  </tbody>\n",
              "</table>\n",
              "</div>\n",
              "      <button class=\"colab-df-convert\" onclick=\"convertToInteractive('df-8a1b0f8b-8658-4299-9203-dd0f9b9173e4')\"\n",
              "              title=\"Convert this dataframe to an interactive table.\"\n",
              "              style=\"display:none;\">\n",
              "        \n",
              "  <svg xmlns=\"http://www.w3.org/2000/svg\" height=\"24px\"viewBox=\"0 0 24 24\"\n",
              "       width=\"24px\">\n",
              "    <path d=\"M0 0h24v24H0V0z\" fill=\"none\"/>\n",
              "    <path d=\"M18.56 5.44l.94 2.06.94-2.06 2.06-.94-2.06-.94-.94-2.06-.94 2.06-2.06.94zm-11 1L8.5 8.5l.94-2.06 2.06-.94-2.06-.94L8.5 2.5l-.94 2.06-2.06.94zm10 10l.94 2.06.94-2.06 2.06-.94-2.06-.94-.94-2.06-.94 2.06-2.06.94z\"/><path d=\"M17.41 7.96l-1.37-1.37c-.4-.4-.92-.59-1.43-.59-.52 0-1.04.2-1.43.59L10.3 9.45l-7.72 7.72c-.78.78-.78 2.05 0 2.83L4 21.41c.39.39.9.59 1.41.59.51 0 1.02-.2 1.41-.59l7.78-7.78 2.81-2.81c.8-.78.8-2.07 0-2.86zM5.41 20L4 18.59l7.72-7.72 1.47 1.35L5.41 20z\"/>\n",
              "  </svg>\n",
              "      </button>\n",
              "      \n",
              "  <style>\n",
              "    .colab-df-container {\n",
              "      display:flex;\n",
              "      flex-wrap:wrap;\n",
              "      gap: 12px;\n",
              "    }\n",
              "\n",
              "    .colab-df-convert {\n",
              "      background-color: #E8F0FE;\n",
              "      border: none;\n",
              "      border-radius: 50%;\n",
              "      cursor: pointer;\n",
              "      display: none;\n",
              "      fill: #1967D2;\n",
              "      height: 32px;\n",
              "      padding: 0 0 0 0;\n",
              "      width: 32px;\n",
              "    }\n",
              "\n",
              "    .colab-df-convert:hover {\n",
              "      background-color: #E2EBFA;\n",
              "      box-shadow: 0px 1px 2px rgba(60, 64, 67, 0.3), 0px 1px 3px 1px rgba(60, 64, 67, 0.15);\n",
              "      fill: #174EA6;\n",
              "    }\n",
              "\n",
              "    [theme=dark] .colab-df-convert {\n",
              "      background-color: #3B4455;\n",
              "      fill: #D2E3FC;\n",
              "    }\n",
              "\n",
              "    [theme=dark] .colab-df-convert:hover {\n",
              "      background-color: #434B5C;\n",
              "      box-shadow: 0px 1px 3px 1px rgba(0, 0, 0, 0.15);\n",
              "      filter: drop-shadow(0px 1px 2px rgba(0, 0, 0, 0.3));\n",
              "      fill: #FFFFFF;\n",
              "    }\n",
              "  </style>\n",
              "\n",
              "      <script>\n",
              "        const buttonEl =\n",
              "          document.querySelector('#df-8a1b0f8b-8658-4299-9203-dd0f9b9173e4 button.colab-df-convert');\n",
              "        buttonEl.style.display =\n",
              "          google.colab.kernel.accessAllowed ? 'block' : 'none';\n",
              "\n",
              "        async function convertToInteractive(key) {\n",
              "          const element = document.querySelector('#df-8a1b0f8b-8658-4299-9203-dd0f9b9173e4');\n",
              "          const dataTable =\n",
              "            await google.colab.kernel.invokeFunction('convertToInteractive',\n",
              "                                                     [key], {});\n",
              "          if (!dataTable) return;\n",
              "\n",
              "          const docLinkHtml = 'Like what you see? Visit the ' +\n",
              "            '<a target=\"_blank\" href=https://colab.research.google.com/notebooks/data_table.ipynb>data table notebook</a>'\n",
              "            + ' to learn more about interactive tables.';\n",
              "          element.innerHTML = '';\n",
              "          dataTable['output_type'] = 'display_data';\n",
              "          await google.colab.output.renderOutput(dataTable, element);\n",
              "          const docLink = document.createElement('div');\n",
              "          docLink.innerHTML = docLinkHtml;\n",
              "          element.appendChild(docLink);\n",
              "        }\n",
              "      </script>\n",
              "    </div>\n",
              "  </div>\n",
              "  "
            ],
            "text/plain": [
              "                         name  score\n",
              "0                         knn   0.54\n",
              "0                         svc   0.60\n",
              "0           baggingclassifier   0.60\n",
              "0          adaboostclassifier   0.54\n",
              "0  gradientboostingclassifier   0.56"
            ]
          },
          "metadata": {},
          "execution_count": 365
        }
      ],
      "source": [
        "data = pd.read_csv('vote.csv')\n",
        "to_drop = ['time', 'name', 'second']\n",
        "targets = ['first', 'second', 'third']\n",
        "y = 'second'\n",
        "second_low = train(data, to_drop, y, targets, 0.10, 'low')\n",
        "second_low[3]"
      ]
    },
    {
      "cell_type": "markdown",
      "source": [
        "## Third"
      ],
      "metadata": {
        "id": "4RkjZ0RJglwW"
      }
    },
    {
      "cell_type": "markdown",
      "source": [
        "Predicting if people are **agree to remove gas into house in Grand Nancy** (Third question).\n",
        "\n",
        "*   **to_drop**: Time, Name and Third.\n",
        "*   **target**: Third.\n",
        "*   **all targets**: First, second and third.\n",
        "*   **test_size**: 10%.\n",
        "*   **precision**: High.\n",
        "\n",
        "\n"
      ],
      "metadata": {
        "id": "Dd7yKLhxglwh"
      }
    },
    {
      "cell_type": "code",
      "execution_count": 366,
      "metadata": {
        "colab": {
          "base_uri": "https://localhost:8080/",
          "height": 487
        },
        "id": "iZT2jo1qglwh",
        "outputId": "098e0b13-7be1-4724-a271-f64c852fcad7"
      },
      "outputs": [
        {
          "output_type": "stream",
          "name": "stdout",
          "text": [
            "----------------------  Training model  ----------------------\n",
            "Import parameters                                 \u001b[92m Successfuly \u001b[0m\n",
            "Reducing targets with precision=high              \u001b[92m Successfuly \u001b[0m\n",
            "Seperating train and test data with test_size=0.1 \u001b[92m Successfuly \u001b[0m\n",
            "Getting numerical and categorical features        \u001b[92m Successfuly \u001b[0m\n",
            "Creating numerical and categorical transformer    \u001b[92m Successfuly \u001b[0m\n",
            "Assembling transformers                           \u001b[92m Successfuly \u001b[0m\n",
            "Params: [{'knn__n_neighbors': array([ 1,  2,  3,  4,  5,  6,  7,  8,  9, 10, 11, 12, 13, 14, 15, 16, 17,\n",
            "       18, 19, 20, 21, 22, 23, 24, 25, 26, 27, 28, 29]), 'knn__p': [1, 2]}, {'svc__kernel': ['rbf', 'linear', 'poly', 'sigmoid'], 'svc__gamma': [0.001], 'svc__C': [1, 10, 100]}, {'baggingclassifier__base_estimator': [KNeighborsClassifier(), SVC()], 'baggingclassifier__n_estimators': [25, 50, 100]}, {'adaboostclassifier__n_estimators': [25, 50, 100]}, {'gradientboostingclassifier__n_estimators': [25, 50, 100]}]\n",
            "Fitting knn                                       \u001b[92m Successfuly \u001b[0m\n",
            "Fitting svc                                       \u001b[92m Successfuly \u001b[0m\n",
            "Fitting baggingclassifier                         \u001b[92m Successfuly \u001b[0m\n",
            "Fitting adaboostclassifier                        \u001b[92m Successfuly \u001b[0m\n",
            "Fitting gradientboostingclassifier                \u001b[92m Successfuly \u001b[0m\n",
            "--------------  All models have been trained!  --------------\n"
          ]
        },
        {
          "output_type": "execute_result",
          "data": {
            "text/html": [
              "\n",
              "  <div id=\"df-74987c98-47c1-42c1-abcb-412291d49fdd\">\n",
              "    <div class=\"colab-df-container\">\n",
              "      <div>\n",
              "<style scoped>\n",
              "    .dataframe tbody tr th:only-of-type {\n",
              "        vertical-align: middle;\n",
              "    }\n",
              "\n",
              "    .dataframe tbody tr th {\n",
              "        vertical-align: top;\n",
              "    }\n",
              "\n",
              "    .dataframe thead th {\n",
              "        text-align: right;\n",
              "    }\n",
              "</style>\n",
              "<table border=\"1\" class=\"dataframe\">\n",
              "  <thead>\n",
              "    <tr style=\"text-align: right;\">\n",
              "      <th></th>\n",
              "      <th>name</th>\n",
              "      <th>score</th>\n",
              "    </tr>\n",
              "  </thead>\n",
              "  <tbody>\n",
              "    <tr>\n",
              "      <th>0</th>\n",
              "      <td>knn</td>\n",
              "      <td>0.42</td>\n",
              "    </tr>\n",
              "    <tr>\n",
              "      <th>0</th>\n",
              "      <td>svc</td>\n",
              "      <td>0.32</td>\n",
              "    </tr>\n",
              "    <tr>\n",
              "      <th>0</th>\n",
              "      <td>baggingclassifier</td>\n",
              "      <td>0.34</td>\n",
              "    </tr>\n",
              "    <tr>\n",
              "      <th>0</th>\n",
              "      <td>adaboostclassifier</td>\n",
              "      <td>0.26</td>\n",
              "    </tr>\n",
              "    <tr>\n",
              "      <th>0</th>\n",
              "      <td>gradientboostingclassifier</td>\n",
              "      <td>0.30</td>\n",
              "    </tr>\n",
              "  </tbody>\n",
              "</table>\n",
              "</div>\n",
              "      <button class=\"colab-df-convert\" onclick=\"convertToInteractive('df-74987c98-47c1-42c1-abcb-412291d49fdd')\"\n",
              "              title=\"Convert this dataframe to an interactive table.\"\n",
              "              style=\"display:none;\">\n",
              "        \n",
              "  <svg xmlns=\"http://www.w3.org/2000/svg\" height=\"24px\"viewBox=\"0 0 24 24\"\n",
              "       width=\"24px\">\n",
              "    <path d=\"M0 0h24v24H0V0z\" fill=\"none\"/>\n",
              "    <path d=\"M18.56 5.44l.94 2.06.94-2.06 2.06-.94-2.06-.94-.94-2.06-.94 2.06-2.06.94zm-11 1L8.5 8.5l.94-2.06 2.06-.94-2.06-.94L8.5 2.5l-.94 2.06-2.06.94zm10 10l.94 2.06.94-2.06 2.06-.94-2.06-.94-.94-2.06-.94 2.06-2.06.94z\"/><path d=\"M17.41 7.96l-1.37-1.37c-.4-.4-.92-.59-1.43-.59-.52 0-1.04.2-1.43.59L10.3 9.45l-7.72 7.72c-.78.78-.78 2.05 0 2.83L4 21.41c.39.39.9.59 1.41.59.51 0 1.02-.2 1.41-.59l7.78-7.78 2.81-2.81c.8-.78.8-2.07 0-2.86zM5.41 20L4 18.59l7.72-7.72 1.47 1.35L5.41 20z\"/>\n",
              "  </svg>\n",
              "      </button>\n",
              "      \n",
              "  <style>\n",
              "    .colab-df-container {\n",
              "      display:flex;\n",
              "      flex-wrap:wrap;\n",
              "      gap: 12px;\n",
              "    }\n",
              "\n",
              "    .colab-df-convert {\n",
              "      background-color: #E8F0FE;\n",
              "      border: none;\n",
              "      border-radius: 50%;\n",
              "      cursor: pointer;\n",
              "      display: none;\n",
              "      fill: #1967D2;\n",
              "      height: 32px;\n",
              "      padding: 0 0 0 0;\n",
              "      width: 32px;\n",
              "    }\n",
              "\n",
              "    .colab-df-convert:hover {\n",
              "      background-color: #E2EBFA;\n",
              "      box-shadow: 0px 1px 2px rgba(60, 64, 67, 0.3), 0px 1px 3px 1px rgba(60, 64, 67, 0.15);\n",
              "      fill: #174EA6;\n",
              "    }\n",
              "\n",
              "    [theme=dark] .colab-df-convert {\n",
              "      background-color: #3B4455;\n",
              "      fill: #D2E3FC;\n",
              "    }\n",
              "\n",
              "    [theme=dark] .colab-df-convert:hover {\n",
              "      background-color: #434B5C;\n",
              "      box-shadow: 0px 1px 3px 1px rgba(0, 0, 0, 0.15);\n",
              "      filter: drop-shadow(0px 1px 2px rgba(0, 0, 0, 0.3));\n",
              "      fill: #FFFFFF;\n",
              "    }\n",
              "  </style>\n",
              "\n",
              "      <script>\n",
              "        const buttonEl =\n",
              "          document.querySelector('#df-74987c98-47c1-42c1-abcb-412291d49fdd button.colab-df-convert');\n",
              "        buttonEl.style.display =\n",
              "          google.colab.kernel.accessAllowed ? 'block' : 'none';\n",
              "\n",
              "        async function convertToInteractive(key) {\n",
              "          const element = document.querySelector('#df-74987c98-47c1-42c1-abcb-412291d49fdd');\n",
              "          const dataTable =\n",
              "            await google.colab.kernel.invokeFunction('convertToInteractive',\n",
              "                                                     [key], {});\n",
              "          if (!dataTable) return;\n",
              "\n",
              "          const docLinkHtml = 'Like what you see? Visit the ' +\n",
              "            '<a target=\"_blank\" href=https://colab.research.google.com/notebooks/data_table.ipynb>data table notebook</a>'\n",
              "            + ' to learn more about interactive tables.';\n",
              "          element.innerHTML = '';\n",
              "          dataTable['output_type'] = 'display_data';\n",
              "          await google.colab.output.renderOutput(dataTable, element);\n",
              "          const docLink = document.createElement('div');\n",
              "          docLink.innerHTML = docLinkHtml;\n",
              "          element.appendChild(docLink);\n",
              "        }\n",
              "      </script>\n",
              "    </div>\n",
              "  </div>\n",
              "  "
            ],
            "text/plain": [
              "                         name  score\n",
              "0                         knn   0.42\n",
              "0                         svc   0.32\n",
              "0           baggingclassifier   0.34\n",
              "0          adaboostclassifier   0.26\n",
              "0  gradientboostingclassifier   0.30"
            ]
          },
          "metadata": {},
          "execution_count": 366
        }
      ],
      "source": [
        "data = pd.read_csv('vote.csv')\n",
        "to_drop = ['time', 'name', 'third']\n",
        "targets = ['first', 'second', 'third']\n",
        "y = 'third'\n",
        "third_high = train(data, to_drop, y, targets, 0.10, 'high')\n",
        "third_high[3]"
      ]
    },
    {
      "cell_type": "markdown",
      "source": [
        "Predicting if people are **agree to remove gas into house in Grand Nancy** (Third question).\n",
        "\n",
        "*   **to_drop**: Time, Name and Third.\n",
        "*   **target**: Third.\n",
        "*   **all targets**: First, second and third.\n",
        "*   **test_size**: 10%.\n",
        "*   **precision**: Medium.\n",
        "\n",
        "\n"
      ],
      "metadata": {
        "id": "nXIv9W0Gglwh"
      }
    },
    {
      "cell_type": "code",
      "execution_count": 367,
      "metadata": {
        "colab": {
          "base_uri": "https://localhost:8080/",
          "height": 487
        },
        "id": "VyGmy4ydglwh",
        "outputId": "2b15b87f-3adb-4a8f-bd41-ba85df9e8c2a"
      },
      "outputs": [
        {
          "output_type": "stream",
          "name": "stdout",
          "text": [
            "----------------------  Training model  ----------------------\n",
            "Import parameters                                 \u001b[92m Successfuly \u001b[0m\n",
            "Reducing targets with precision=medium            \u001b[92m Successfuly \u001b[0m\n",
            "Seperating train and test data with test_size=0.1 \u001b[92m Successfuly \u001b[0m\n",
            "Getting numerical and categorical features        \u001b[92m Successfuly \u001b[0m\n",
            "Creating numerical and categorical transformer    \u001b[92m Successfuly \u001b[0m\n",
            "Assembling transformers                           \u001b[92m Successfuly \u001b[0m\n",
            "Params: [{'knn__n_neighbors': array([ 1,  2,  3,  4,  5,  6,  7,  8,  9, 10, 11, 12, 13, 14, 15, 16, 17,\n",
            "       18, 19, 20, 21, 22, 23, 24, 25, 26, 27, 28, 29]), 'knn__p': [1, 2]}, {'svc__kernel': ['rbf', 'linear', 'poly', 'sigmoid'], 'svc__gamma': [0.001], 'svc__C': [1, 10, 100]}, {'baggingclassifier__base_estimator': [KNeighborsClassifier(), SVC()], 'baggingclassifier__n_estimators': [25, 50, 100]}, {'adaboostclassifier__n_estimators': [25, 50, 100]}, {'gradientboostingclassifier__n_estimators': [25, 50, 100]}]\n",
            "Fitting knn                                       \u001b[92m Successfuly \u001b[0m\n",
            "Fitting svc                                       \u001b[92m Successfuly \u001b[0m\n",
            "Fitting baggingclassifier                         \u001b[92m Successfuly \u001b[0m\n",
            "Fitting adaboostclassifier                        \u001b[92m Successfuly \u001b[0m\n",
            "Fitting gradientboostingclassifier                \u001b[92m Successfuly \u001b[0m\n",
            "--------------  All models have been trained!  --------------\n"
          ]
        },
        {
          "output_type": "execute_result",
          "data": {
            "text/html": [
              "\n",
              "  <div id=\"df-07c9f47d-1f24-4650-9b42-88a191c7c84e\">\n",
              "    <div class=\"colab-df-container\">\n",
              "      <div>\n",
              "<style scoped>\n",
              "    .dataframe tbody tr th:only-of-type {\n",
              "        vertical-align: middle;\n",
              "    }\n",
              "\n",
              "    .dataframe tbody tr th {\n",
              "        vertical-align: top;\n",
              "    }\n",
              "\n",
              "    .dataframe thead th {\n",
              "        text-align: right;\n",
              "    }\n",
              "</style>\n",
              "<table border=\"1\" class=\"dataframe\">\n",
              "  <thead>\n",
              "    <tr style=\"text-align: right;\">\n",
              "      <th></th>\n",
              "      <th>name</th>\n",
              "      <th>score</th>\n",
              "    </tr>\n",
              "  </thead>\n",
              "  <tbody>\n",
              "    <tr>\n",
              "      <th>0</th>\n",
              "      <td>knn</td>\n",
              "      <td>0.50</td>\n",
              "    </tr>\n",
              "    <tr>\n",
              "      <th>0</th>\n",
              "      <td>svc</td>\n",
              "      <td>0.50</td>\n",
              "    </tr>\n",
              "    <tr>\n",
              "      <th>0</th>\n",
              "      <td>baggingclassifier</td>\n",
              "      <td>0.50</td>\n",
              "    </tr>\n",
              "    <tr>\n",
              "      <th>0</th>\n",
              "      <td>adaboostclassifier</td>\n",
              "      <td>0.42</td>\n",
              "    </tr>\n",
              "    <tr>\n",
              "      <th>0</th>\n",
              "      <td>gradientboostingclassifier</td>\n",
              "      <td>0.50</td>\n",
              "    </tr>\n",
              "  </tbody>\n",
              "</table>\n",
              "</div>\n",
              "      <button class=\"colab-df-convert\" onclick=\"convertToInteractive('df-07c9f47d-1f24-4650-9b42-88a191c7c84e')\"\n",
              "              title=\"Convert this dataframe to an interactive table.\"\n",
              "              style=\"display:none;\">\n",
              "        \n",
              "  <svg xmlns=\"http://www.w3.org/2000/svg\" height=\"24px\"viewBox=\"0 0 24 24\"\n",
              "       width=\"24px\">\n",
              "    <path d=\"M0 0h24v24H0V0z\" fill=\"none\"/>\n",
              "    <path d=\"M18.56 5.44l.94 2.06.94-2.06 2.06-.94-2.06-.94-.94-2.06-.94 2.06-2.06.94zm-11 1L8.5 8.5l.94-2.06 2.06-.94-2.06-.94L8.5 2.5l-.94 2.06-2.06.94zm10 10l.94 2.06.94-2.06 2.06-.94-2.06-.94-.94-2.06-.94 2.06-2.06.94z\"/><path d=\"M17.41 7.96l-1.37-1.37c-.4-.4-.92-.59-1.43-.59-.52 0-1.04.2-1.43.59L10.3 9.45l-7.72 7.72c-.78.78-.78 2.05 0 2.83L4 21.41c.39.39.9.59 1.41.59.51 0 1.02-.2 1.41-.59l7.78-7.78 2.81-2.81c.8-.78.8-2.07 0-2.86zM5.41 20L4 18.59l7.72-7.72 1.47 1.35L5.41 20z\"/>\n",
              "  </svg>\n",
              "      </button>\n",
              "      \n",
              "  <style>\n",
              "    .colab-df-container {\n",
              "      display:flex;\n",
              "      flex-wrap:wrap;\n",
              "      gap: 12px;\n",
              "    }\n",
              "\n",
              "    .colab-df-convert {\n",
              "      background-color: #E8F0FE;\n",
              "      border: none;\n",
              "      border-radius: 50%;\n",
              "      cursor: pointer;\n",
              "      display: none;\n",
              "      fill: #1967D2;\n",
              "      height: 32px;\n",
              "      padding: 0 0 0 0;\n",
              "      width: 32px;\n",
              "    }\n",
              "\n",
              "    .colab-df-convert:hover {\n",
              "      background-color: #E2EBFA;\n",
              "      box-shadow: 0px 1px 2px rgba(60, 64, 67, 0.3), 0px 1px 3px 1px rgba(60, 64, 67, 0.15);\n",
              "      fill: #174EA6;\n",
              "    }\n",
              "\n",
              "    [theme=dark] .colab-df-convert {\n",
              "      background-color: #3B4455;\n",
              "      fill: #D2E3FC;\n",
              "    }\n",
              "\n",
              "    [theme=dark] .colab-df-convert:hover {\n",
              "      background-color: #434B5C;\n",
              "      box-shadow: 0px 1px 3px 1px rgba(0, 0, 0, 0.15);\n",
              "      filter: drop-shadow(0px 1px 2px rgba(0, 0, 0, 0.3));\n",
              "      fill: #FFFFFF;\n",
              "    }\n",
              "  </style>\n",
              "\n",
              "      <script>\n",
              "        const buttonEl =\n",
              "          document.querySelector('#df-07c9f47d-1f24-4650-9b42-88a191c7c84e button.colab-df-convert');\n",
              "        buttonEl.style.display =\n",
              "          google.colab.kernel.accessAllowed ? 'block' : 'none';\n",
              "\n",
              "        async function convertToInteractive(key) {\n",
              "          const element = document.querySelector('#df-07c9f47d-1f24-4650-9b42-88a191c7c84e');\n",
              "          const dataTable =\n",
              "            await google.colab.kernel.invokeFunction('convertToInteractive',\n",
              "                                                     [key], {});\n",
              "          if (!dataTable) return;\n",
              "\n",
              "          const docLinkHtml = 'Like what you see? Visit the ' +\n",
              "            '<a target=\"_blank\" href=https://colab.research.google.com/notebooks/data_table.ipynb>data table notebook</a>'\n",
              "            + ' to learn more about interactive tables.';\n",
              "          element.innerHTML = '';\n",
              "          dataTable['output_type'] = 'display_data';\n",
              "          await google.colab.output.renderOutput(dataTable, element);\n",
              "          const docLink = document.createElement('div');\n",
              "          docLink.innerHTML = docLinkHtml;\n",
              "          element.appendChild(docLink);\n",
              "        }\n",
              "      </script>\n",
              "    </div>\n",
              "  </div>\n",
              "  "
            ],
            "text/plain": [
              "                         name  score\n",
              "0                         knn   0.50\n",
              "0                         svc   0.50\n",
              "0           baggingclassifier   0.50\n",
              "0          adaboostclassifier   0.42\n",
              "0  gradientboostingclassifier   0.50"
            ]
          },
          "metadata": {},
          "execution_count": 367
        }
      ],
      "source": [
        "data = pd.read_csv('vote.csv')\n",
        "to_drop = ['time', 'name', 'second']\n",
        "targets = ['first', 'second', 'third']\n",
        "y = 'second'\n",
        "third_medium = train(data, to_drop, y, targets, 0.10, 'medium')\n",
        "third_medium[3]"
      ]
    },
    {
      "cell_type": "markdown",
      "source": [
        "Predicting if people are **agree to remove gas into house in Grand Nancy** (Third question).\n",
        "\n",
        "*   **to_drop**: Time, Name and Third.\n",
        "*   **target**: Third.\n",
        "*   **all targets**: First, second and third.\n",
        "*   **test_size**: 10%.\n",
        "*   **precision**: Low.\n",
        "\n",
        "\n"
      ],
      "metadata": {
        "id": "j6InW7yeglwh"
      }
    },
    {
      "cell_type": "code",
      "execution_count": 368,
      "metadata": {
        "colab": {
          "base_uri": "https://localhost:8080/",
          "height": 487
        },
        "id": "4zSZzxmXglwh",
        "outputId": "1e702e7f-1b4c-4712-9283-c34db20c800f"
      },
      "outputs": [
        {
          "output_type": "stream",
          "name": "stdout",
          "text": [
            "----------------------  Training model  ----------------------\n",
            "Import parameters                                 \u001b[92m Successfuly \u001b[0m\n",
            "Reducing targets with precision=low               \u001b[92m Successfuly \u001b[0m\n",
            "Seperating train and test data with test_size=0.1 \u001b[92m Successfuly \u001b[0m\n",
            "Getting numerical and categorical features        \u001b[92m Successfuly \u001b[0m\n",
            "Creating numerical and categorical transformer    \u001b[92m Successfuly \u001b[0m\n",
            "Assembling transformers                           \u001b[92m Successfuly \u001b[0m\n",
            "Params: [{'knn__n_neighbors': array([ 1,  2,  3,  4,  5,  6,  7,  8,  9, 10, 11, 12, 13, 14, 15, 16, 17,\n",
            "       18, 19, 20, 21, 22, 23, 24, 25, 26, 27, 28, 29]), 'knn__p': [1, 2]}, {'svc__kernel': ['rbf', 'linear', 'poly', 'sigmoid'], 'svc__gamma': [0.001], 'svc__C': [1, 10, 100]}, {'baggingclassifier__base_estimator': [KNeighborsClassifier(), SVC()], 'baggingclassifier__n_estimators': [25, 50, 100]}, {'adaboostclassifier__n_estimators': [25, 50, 100]}, {'gradientboostingclassifier__n_estimators': [25, 50, 100]}]\n",
            "Fitting knn                                       \u001b[92m Successfuly \u001b[0m\n",
            "Fitting svc                                       \u001b[92m Successfuly \u001b[0m\n",
            "Fitting baggingclassifier                         \u001b[92m Successfuly \u001b[0m\n",
            "Fitting adaboostclassifier                        \u001b[92m Successfuly \u001b[0m\n",
            "Fitting gradientboostingclassifier                \u001b[92m Successfuly \u001b[0m\n",
            "--------------  All models have been trained!  --------------\n"
          ]
        },
        {
          "output_type": "execute_result",
          "data": {
            "text/html": [
              "\n",
              "  <div id=\"df-a0e21ddb-adda-42c6-8f64-878f76bfea14\">\n",
              "    <div class=\"colab-df-container\">\n",
              "      <div>\n",
              "<style scoped>\n",
              "    .dataframe tbody tr th:only-of-type {\n",
              "        vertical-align: middle;\n",
              "    }\n",
              "\n",
              "    .dataframe tbody tr th {\n",
              "        vertical-align: top;\n",
              "    }\n",
              "\n",
              "    .dataframe thead th {\n",
              "        text-align: right;\n",
              "    }\n",
              "</style>\n",
              "<table border=\"1\" class=\"dataframe\">\n",
              "  <thead>\n",
              "    <tr style=\"text-align: right;\">\n",
              "      <th></th>\n",
              "      <th>name</th>\n",
              "      <th>score</th>\n",
              "    </tr>\n",
              "  </thead>\n",
              "  <tbody>\n",
              "    <tr>\n",
              "      <th>0</th>\n",
              "      <td>knn</td>\n",
              "      <td>0.54</td>\n",
              "    </tr>\n",
              "    <tr>\n",
              "      <th>0</th>\n",
              "      <td>svc</td>\n",
              "      <td>0.56</td>\n",
              "    </tr>\n",
              "    <tr>\n",
              "      <th>0</th>\n",
              "      <td>baggingclassifier</td>\n",
              "      <td>0.52</td>\n",
              "    </tr>\n",
              "    <tr>\n",
              "      <th>0</th>\n",
              "      <td>adaboostclassifier</td>\n",
              "      <td>0.70</td>\n",
              "    </tr>\n",
              "    <tr>\n",
              "      <th>0</th>\n",
              "      <td>gradientboostingclassifier</td>\n",
              "      <td>0.58</td>\n",
              "    </tr>\n",
              "  </tbody>\n",
              "</table>\n",
              "</div>\n",
              "      <button class=\"colab-df-convert\" onclick=\"convertToInteractive('df-a0e21ddb-adda-42c6-8f64-878f76bfea14')\"\n",
              "              title=\"Convert this dataframe to an interactive table.\"\n",
              "              style=\"display:none;\">\n",
              "        \n",
              "  <svg xmlns=\"http://www.w3.org/2000/svg\" height=\"24px\"viewBox=\"0 0 24 24\"\n",
              "       width=\"24px\">\n",
              "    <path d=\"M0 0h24v24H0V0z\" fill=\"none\"/>\n",
              "    <path d=\"M18.56 5.44l.94 2.06.94-2.06 2.06-.94-2.06-.94-.94-2.06-.94 2.06-2.06.94zm-11 1L8.5 8.5l.94-2.06 2.06-.94-2.06-.94L8.5 2.5l-.94 2.06-2.06.94zm10 10l.94 2.06.94-2.06 2.06-.94-2.06-.94-.94-2.06-.94 2.06-2.06.94z\"/><path d=\"M17.41 7.96l-1.37-1.37c-.4-.4-.92-.59-1.43-.59-.52 0-1.04.2-1.43.59L10.3 9.45l-7.72 7.72c-.78.78-.78 2.05 0 2.83L4 21.41c.39.39.9.59 1.41.59.51 0 1.02-.2 1.41-.59l7.78-7.78 2.81-2.81c.8-.78.8-2.07 0-2.86zM5.41 20L4 18.59l7.72-7.72 1.47 1.35L5.41 20z\"/>\n",
              "  </svg>\n",
              "      </button>\n",
              "      \n",
              "  <style>\n",
              "    .colab-df-container {\n",
              "      display:flex;\n",
              "      flex-wrap:wrap;\n",
              "      gap: 12px;\n",
              "    }\n",
              "\n",
              "    .colab-df-convert {\n",
              "      background-color: #E8F0FE;\n",
              "      border: none;\n",
              "      border-radius: 50%;\n",
              "      cursor: pointer;\n",
              "      display: none;\n",
              "      fill: #1967D2;\n",
              "      height: 32px;\n",
              "      padding: 0 0 0 0;\n",
              "      width: 32px;\n",
              "    }\n",
              "\n",
              "    .colab-df-convert:hover {\n",
              "      background-color: #E2EBFA;\n",
              "      box-shadow: 0px 1px 2px rgba(60, 64, 67, 0.3), 0px 1px 3px 1px rgba(60, 64, 67, 0.15);\n",
              "      fill: #174EA6;\n",
              "    }\n",
              "\n",
              "    [theme=dark] .colab-df-convert {\n",
              "      background-color: #3B4455;\n",
              "      fill: #D2E3FC;\n",
              "    }\n",
              "\n",
              "    [theme=dark] .colab-df-convert:hover {\n",
              "      background-color: #434B5C;\n",
              "      box-shadow: 0px 1px 3px 1px rgba(0, 0, 0, 0.15);\n",
              "      filter: drop-shadow(0px 1px 2px rgba(0, 0, 0, 0.3));\n",
              "      fill: #FFFFFF;\n",
              "    }\n",
              "  </style>\n",
              "\n",
              "      <script>\n",
              "        const buttonEl =\n",
              "          document.querySelector('#df-a0e21ddb-adda-42c6-8f64-878f76bfea14 button.colab-df-convert');\n",
              "        buttonEl.style.display =\n",
              "          google.colab.kernel.accessAllowed ? 'block' : 'none';\n",
              "\n",
              "        async function convertToInteractive(key) {\n",
              "          const element = document.querySelector('#df-a0e21ddb-adda-42c6-8f64-878f76bfea14');\n",
              "          const dataTable =\n",
              "            await google.colab.kernel.invokeFunction('convertToInteractive',\n",
              "                                                     [key], {});\n",
              "          if (!dataTable) return;\n",
              "\n",
              "          const docLinkHtml = 'Like what you see? Visit the ' +\n",
              "            '<a target=\"_blank\" href=https://colab.research.google.com/notebooks/data_table.ipynb>data table notebook</a>'\n",
              "            + ' to learn more about interactive tables.';\n",
              "          element.innerHTML = '';\n",
              "          dataTable['output_type'] = 'display_data';\n",
              "          await google.colab.output.renderOutput(dataTable, element);\n",
              "          const docLink = document.createElement('div');\n",
              "          docLink.innerHTML = docLinkHtml;\n",
              "          element.appendChild(docLink);\n",
              "        }\n",
              "      </script>\n",
              "    </div>\n",
              "  </div>\n",
              "  "
            ],
            "text/plain": [
              "                         name  score\n",
              "0                         knn   0.54\n",
              "0                         svc   0.56\n",
              "0           baggingclassifier   0.52\n",
              "0          adaboostclassifier   0.70\n",
              "0  gradientboostingclassifier   0.58"
            ]
          },
          "metadata": {},
          "execution_count": 368
        }
      ],
      "source": [
        "data = pd.read_csv('vote.csv')\n",
        "to_drop = ['time', 'name', 'third']\n",
        "targets = ['first', 'second', 'third']\n",
        "y = 'third'\n",
        "third_low = train(data, to_drop, y, targets, 0.10, 'low')\n",
        "third_low[3]"
      ]
    },
    {
      "cell_type": "markdown",
      "source": [
        "# Predict"
      ],
      "metadata": {
        "id": "cv9yHHSudtCd"
      }
    },
    {
      "cell_type": "markdown",
      "source": [
        "Well! We trained all classifier in order to find one target considering the others. "
      ],
      "metadata": {
        "id": "Q55Pq8j6iTZt"
      }
    },
    {
      "cell_type": "markdown",
      "source": [
        "**Let's predict** 🚀"
      ],
      "metadata": {
        "id": "tsGYueRPipna"
      }
    },
    {
      "cell_type": "markdown",
      "source": [
        "## From dictionary "
      ],
      "metadata": {
        "id": "nFT8GF4bfHRl"
      }
    },
    {
      "cell_type": "markdown",
      "source": [
        "We create an helper in order to predict target **easily**. We verify also all parameters and build DataFrame."
      ],
      "metadata": {
        "id": "xVenH3pJisKP"
      }
    },
    {
      "cell_type": "markdown",
      "source": [
        "The feature **targetted must to be None**."
      ],
      "metadata": {
        "id": "pWHbPkN0lzUA"
      }
    },
    {
      "cell_type": "code",
      "execution_count": 369,
      "metadata": {
        "id": "_CK6HyvZm93o"
      },
      "outputs": [],
      "source": [
        "def prediction(results_from_train, gender, old, city, socio_professional_category, dependent, first, second, third):\n",
        "  model = results_from_train[0]\n",
        "  precision = results_from_train[2]\n",
        "  features = [gender, old, city, socio_professional_category, dependent]\n",
        "  questions = [first, second, third]\n",
        "  none_counter = 0\n",
        "  if precision == 'high':\n",
        "    p = 6\n",
        "  if precision == 'medium':\n",
        "    p = 3\n",
        "  if precision == 'low':\n",
        "    p = 2\n",
        "  for f in features:\n",
        "    if type(f) != str:\n",
        "      return 'Features must be string.'\n",
        "  for q in questions:\n",
        "    if type(q) != int and q != None:\n",
        "      return 'Question must be integer or None.'\n",
        "    if q == None:\n",
        "      none_counter+=1\n",
        "      if none_counter == 2:\n",
        "        return 'Two much None in questions.'\n",
        "    if type(q) == int and q>p:\n",
        "      return 'Question has too high number than precision.'\n",
        "  if none_counter == 0:\n",
        "    return 'One question must be None'\n",
        "  labels = ['first', 'second', 'third']\n",
        "  base = {'gender': [gender], 'old': [old], 'city': [city], 'socio-professional-category': [socio_professional_category], 'dependent': [dependent]}\n",
        "  for i in range(0, len(questions), 1):\n",
        "    if questions[i] != None:\n",
        "      base[labels[i]] = [questions[i]]\n",
        "  return model.predict(pd.DataFrame(base))"
      ]
    },
    {
      "cell_type": "markdown",
      "source": [
        "**People**:\n",
        "\n",
        "*   **Gender**: Male\n",
        "*   **Old**: 18-25\n",
        "*   **City**: Nancy\n",
        "*   **Socio professional category**: Executive\n",
        "*   **Dependent**: 0 (No child)\n",
        "*   **Second**: 1 (No agree)\n",
        "*   **Third**: 1 (No agree)\n",
        "\n",
        "\n",
        "\n"
      ],
      "metadata": {
        "id": "2rpQo9opjShf"
      }
    },
    {
      "cell_type": "code",
      "execution_count": 375,
      "metadata": {
        "id": "OYFOrgI0rJ89",
        "colab": {
          "base_uri": "https://localhost:8080/"
        },
        "outputId": "5650b91b-a718-4223-c774-79651533989a"
      },
      "outputs": [
        {
          "output_type": "execute_result",
          "data": {
            "text/plain": [
              "array([2])"
            ]
          },
          "metadata": {},
          "execution_count": 375
        }
      ],
      "source": [
        "prediction(first_low, 'Male', '18-25', 'Nancy', 'Executive', '0', None, 2, 1)"
      ]
    },
    {
      "cell_type": "markdown",
      "source": [
        "**People**:\n",
        "\n",
        "*   **Gender**: Female\n",
        "*   **Old**: 26-40\n",
        "*   **City**: Laxou\n",
        "*   **Socio professional category**: Employees\n",
        "*   **Dependent**: 2 \n",
        "*   **Second**: 3 (agree)\n",
        "*   **Third**: 2 (mixed)\n",
        "\n",
        "\n",
        "\n"
      ],
      "metadata": {
        "id": "IQwhoxjpqtak"
      }
    },
    {
      "cell_type": "code",
      "source": [
        "prediction(first_medium, 'Female', '26-40', 'Laxou', 'Employees', '2', None, 3, 2)"
      ],
      "metadata": {
        "colab": {
          "base_uri": "https://localhost:8080/"
        },
        "id": "fQewKuepo2QV",
        "outputId": "7fad97b0-5fc1-4bdd-ddd3-9b9b0ab97712"
      },
      "execution_count": 381,
      "outputs": [
        {
          "output_type": "execute_result",
          "data": {
            "text/plain": [
              "array([3])"
            ]
          },
          "metadata": {},
          "execution_count": 381
        }
      ]
    },
    {
      "cell_type": "markdown",
      "source": [
        "## From csv"
      ],
      "metadata": {
        "id": "UGP8LBR2fN9_"
      }
    },
    {
      "cell_type": "markdown",
      "source": [
        "We adding the possibility to **predict an CSV file**, for example to predict **what people think about a question**, especially if we have a list of people in our city."
      ],
      "metadata": {
        "id": "1wwZyK_gi6m4"
      }
    },
    {
      "cell_type": "code",
      "source": [
        "def prediction_from_csv(X, results):\n",
        "  preds = []\n",
        "  target_to_none = results[1]\n",
        "  if target_to_none == 'first':\n",
        "    for row in X.iterrows():\n",
        "      preds.append(prediction(results, str(row[1][0]), str(row[1][1]), str(row[1][2]), str(row[1][3]), str(row[1][4]), None, row[1][5], row[1][6]))\n",
        "  elif target_to_none == 'second':\n",
        "    for row in X.iterrows():\n",
        "      preds.append(prediction(results, str(row[1][0]), str(row[1][1]), str(row[1][2]), str(row[1][3]), str(row[1][4]), row[1][5], None, row[1][6]))\n",
        "  elif target_to_none == 'third':\n",
        "    for row in X.iterrows():\n",
        "      preds.append(prediction(results, str(row[1][0]), str(row[1][1]), str(row[1][2]), str(row[1][3]), str(row[1][4]), row[1][5], row[1][6], None))\n",
        "  else:\n",
        "    return 'target_to_none is only following : \"first\" or \"second\" or \"third\".'\n",
        "  return preds"
      ],
      "metadata": {
        "id": "ioe7LDVfqj8i"
      },
      "execution_count": 370,
      "outputs": []
    },
    {
      "cell_type": "code",
      "source": [
        "data_test = pd.read_csv('vote-test.csv')\n",
        "data_test = data_test.drop(['time', 'name', 'first'], axis=1)\n",
        "prediction_from_csv(data_test, first_high)"
      ],
      "metadata": {
        "colab": {
          "base_uri": "https://localhost:8080/"
        },
        "id": "3SlIlMp1qUuJ",
        "outputId": "6f7d5659-34fd-40b9-e33d-6a10e32cada0"
      },
      "execution_count": 374,
      "outputs": [
        {
          "output_type": "execute_result",
          "data": {
            "text/plain": [
              "[array([4]),\n",
              " array([6]),\n",
              " array([5]),\n",
              " array([6]),\n",
              " array([5]),\n",
              " array([4]),\n",
              " array([5])]"
            ]
          },
          "metadata": {},
          "execution_count": 374
        }
      ]
    }
  ],
  "metadata": {
    "colab": {
      "collapsed_sections": [],
      "name": "vitemonvote-prediction.ipynb",
      "provenance": []
    },
    "kernelspec": {
      "display_name": "Python 3",
      "name": "python3"
    },
    "language_info": {
      "name": "python"
    }
  },
  "nbformat": 4,
  "nbformat_minor": 0
}